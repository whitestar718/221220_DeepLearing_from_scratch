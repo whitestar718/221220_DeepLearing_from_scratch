{
 "cells": [
  {
   "attachments": {},
   "cell_type": "markdown",
   "id": "2a03bc04",
   "metadata": {},
   "source": [
    "# 2. Perceptron\n",
    "---\n",
    "In this chapter, we will discuss about Perceptron Algorithm. It was made by Frank Rosenblatt by 1957. It has been long time since this therom has came out to world, then why should we know about this? Because this is the origin of the Deep Learning. By the way, this is my second time to review this book, I hope this journey would be nice to backup my memory :)\n",
    "\n",
    "### 2.1 What is perceptron?\n",
    "* multiple inputs -> single outputs\n",
    "* single output meaning = 0 or 1\n",
    "\n",
    "### 2.2 Logic gate\n",
    "<img src=\"logicgate.jpg\" alt=\"drawing\" width=\"1000\"> <br>\n",
    "ref: http://www.exclusivearchitecture.com/?page_id=2425\n"
   ]
  },
  {
   "attachments": {},
   "cell_type": "markdown",
   "id": "03416453",
   "metadata": {},
   "source": [
    "### 2.3 Implementation"
   ]
  },
  {
   "cell_type": "code",
   "execution_count": 1,
   "id": "ab20cb3e",
   "metadata": {},
   "outputs": [
    {
     "name": "stdout",
     "output_type": "stream",
     "text": [
      "0\n",
      "0\n",
      "0\n",
      "1\n"
     ]
    }
   ],
   "source": [
    "def AND(x1, x2):\n",
    "    w1, w2, theta = 0.5, 0.5, 0.7\n",
    "    tmp = x1*w1 + x2*w2\n",
    "    if tmp <= theta:\n",
    "        return 0\n",
    "    elif tmp > theta:\n",
    "        return 1\n",
    "\n",
    "print(AND(0, 0))\n",
    "print(AND(0, 1))\n",
    "print(AND(1, 0))\n",
    "print(AND(1, 1))"
   ]
  },
  {
   "cell_type": "code",
   "execution_count": 3,
   "id": "7ae68725",
   "metadata": {},
   "outputs": [
    {
     "name": "stdout",
     "output_type": "stream",
     "text": [
      "x * w =  [0.  0.5]\n",
      "sum: 0.5\n",
      "final: -0.19999999999999996\n"
     ]
    }
   ],
   "source": [
    "import numpy as np\n",
    "\n",
    "x = np.array([0, 1])\n",
    "w = np.array([0.5, 0.5])\n",
    "b = -0.7\n",
    "print(\"x * w = \", x*w)\n",
    "print('sum:', np.sum(w*x))\n",
    "print('final:', np.sum(w*x) + b)"
   ]
  },
  {
   "cell_type": "code",
   "execution_count": 4,
   "id": "18fa82d6",
   "metadata": {},
   "outputs": [],
   "source": [
    "def AND(x1, x2):\n",
    "    x = np.array([x1, x2])\n",
    "    w = np.array([0.5, 0.5])\n",
    "    b = -0.7\n",
    "    tmp = np.sum(x*w) + b\n",
    "    if tmp <= 0:\n",
    "        return 0\n",
    "    else:\n",
    "        return 1"
   ]
  }
 ],
 "metadata": {
  "kernelspec": {
   "display_name": "tf2",
   "language": "python",
   "name": "python3"
  },
  "language_info": {
   "codemirror_mode": {
    "name": "ipython",
    "version": 3
   },
   "file_extension": ".py",
   "mimetype": "text/x-python",
   "name": "python",
   "nbconvert_exporter": "python",
   "pygments_lexer": "ipython3",
   "version": "3.10.6"
  },
  "vscode": {
   "interpreter": {
    "hash": "429d3c4ab745cb5040d1082d56ce2bddcd2ae65139d012657fade8b90ce91472"
   }
  }
 },
 "nbformat": 4,
 "nbformat_minor": 5
}
