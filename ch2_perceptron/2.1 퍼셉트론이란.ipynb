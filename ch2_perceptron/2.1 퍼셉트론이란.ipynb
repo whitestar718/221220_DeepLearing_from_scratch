{
 "cells": [
  {
   "attachments": {},
   "cell_type": "markdown",
   "id": "2a03bc04",
   "metadata": {},
   "source": [
    "# 2. 퍼셉트론\n",
    "---\n",
    "이번 챕터는 퍼셉트론을 다룬다. 퍼셉트론은 프랑크 로벤블라크가 1957년에 고안한 알고리즘이다. 이 고대 화석같은 이론을 배우는 이유는, 이것이 딥러닝의 기원이라고 할 수 있기 때문이다. 첫 여정이니 만큼, 가볍고 즐겁게 임하도록 하자 ^^\n",
    "\n",
    "### 2.1 퍼셉트론이란?\n",
    "퍼셉트론은 다수의 신호를 입력받아 하나의 신호를 출력한다. 아래 그림은 입력으로 2개의 신호를 받은 경우이다. x1, x2는 입력신호, w1, w2는 가중치를 뜻한다. 그리고 이것들은 각각 곱해져서 y라는 결과로 출력된다. 뉴련에서 보내온 신호는 한계를 넘을 대만 1로 출력된다. 이 한계라는 것은 임계값이라고도 하며, θ 기호로 나타낸다. 이것은 쎄타라고 읽는다.\n",
    "\n",
    "* multiple inputs -> single outputs\n",
    "* single output meaning = 0 or 1"
   ]
  }
 ],
 "metadata": {
  "kernelspec": {
   "display_name": "tf2",
   "language": "python",
   "name": "python3"
  },
  "language_info": {
   "codemirror_mode": {
    "name": "ipython",
    "version": 3
   },
   "file_extension": ".py",
   "mimetype": "text/x-python",
   "name": "python",
   "nbconvert_exporter": "python",
   "pygments_lexer": "ipython3",
   "version": "3.10.6 | packaged by conda-forge | (main, Oct  7 2022, 20:14:50) [MSC v.1916 64 bit (AMD64)]"
  },
  "vscode": {
   "interpreter": {
    "hash": "429d3c4ab745cb5040d1082d56ce2bddcd2ae65139d012657fade8b90ce91472"
   }
  }
 },
 "nbformat": 4,
 "nbformat_minor": 5
}
