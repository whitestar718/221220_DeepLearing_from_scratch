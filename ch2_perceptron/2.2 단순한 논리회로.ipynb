{
 "cells": [
  {
   "attachments": {},
   "cell_type": "markdown",
   "id": "2a03bc04",
   "metadata": {},
   "source": [
    "\n",
    "<img src=\"logicgate.jpg\" alt=\"drawing\" width=\"1000\"> <br>\n",
    "ref: http://www.exclusivearchitecture.com/?page_id=2425\n",
    "\n",
    "\n",
    "* AND gate: AND 게이트는 두 입력이 1일 때만 1을 출력하고, 그 외에는 0을 출력한다.\n",
    "* NAND gate: NAND 게이트는 not and를 의마한다. 정확히 and의 반대인데, 둘 다 1일 때만 0을 출력하고 그 외에는 1을 출력한다.\n",
    "* OR gate: OR 게이트는 두 입력 중 하나가 1이면 1을 출력하고, 그 외에는 0을 출력한다."
   ]
  }
 ],
 "metadata": {
  "kernelspec": {
   "display_name": "tf2",
   "language": "python",
   "name": "python3"
  },
  "language_info": {
   "codemirror_mode": {
    "name": "ipython",
    "version": 3
   },
   "file_extension": ".py",
   "mimetype": "text/x-python",
   "name": "python",
   "nbconvert_exporter": "python",
   "pygments_lexer": "ipython3",
   "version": "3.10.6 | packaged by conda-forge | (main, Oct  7 2022, 20:14:50) [MSC v.1916 64 bit (AMD64)]"
  },
  "vscode": {
   "interpreter": {
    "hash": "429d3c4ab745cb5040d1082d56ce2bddcd2ae65139d012657fade8b90ce91472"
   }
  }
 },
 "nbformat": 4,
 "nbformat_minor": 5
}
