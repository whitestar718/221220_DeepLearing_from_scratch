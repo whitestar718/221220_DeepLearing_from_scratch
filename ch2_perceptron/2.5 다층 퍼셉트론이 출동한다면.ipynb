{
 "cells": [
  {
   "attachments": {},
   "cell_type": "markdown",
   "id": "03416453",
   "metadata": {},
   "source": [
    "안타깝게도 퍼셉트론으로는 XOR 게이트를 표현할 수 없었다. 그렇다고 슬퍼할 필요는 없다. 왜냐면 이는 다층 퍼셉트론으로 구현이 가능하기 때문이다. 이전에서 살펴본 퍼셉트론은 1개의 층만 있었다면, 이젠 여러 개 층을 쌓아서 좀 더 복잡한 문제를 다루어 본다. 이번 절에서는 층을 하나 더 쌓아서 XOR게이트를 구현해볼 것이다. 우선은 XOR 게이트를 다른 관점에서 생각해보자.\n",
    "\n",
    "# 2.5.1 기존 게이트 조합하기\n",
    "\n",
    "XOR 게이트를 만드는 방법은 다양하다. 그 중 하나는 앞서 만든 AND, NAND, OR 게이트를 조합하는 방법이다. AND, NAND, OR 게이트를 아래 그림과 같은 기호로 표기할 수 있다.\n",
    "\n",
    "<p align=\"center\"0><img src = \"imgs/2-11.png\" width=500></p>\n"
   ]
  },
  {
   "cell_type": "code",
   "execution_count": 2,
   "id": "bbf24bdf",
   "metadata": {},
   "outputs": [],
   "source": [
    "import numpy as np\n",
    "\n",
    "def AND(x1, x2):\n",
    "    x = np.array([x1, x2])\n",
    "    w = np.array([0.5, 0.5])\n",
    "    b = -0.7\n",
    "    tmp = np.sum(x*w) + b\n",
    "    if tmp <= 0:\n",
    "        return 0\n",
    "    else:\n",
    "        return 1\n",
    "\n",
    "def NAND(x1, x2): # results are exactly the opposite of the AND gate\n",
    "    x = np.array([x1, x2])\n",
    "    w = np.array([-0.5, -0.5]) # check this out (minus)\n",
    "    b = 0.7\n",
    "    tmp = np.sum(x*w) + b\n",
    "    if tmp <= 0:\n",
    "        return 0\n",
    "    else:\n",
    "        return 1\n",
    "\n",
    "def OR(x1, x2):\n",
    "    x = np.array([x1, x2])\n",
    "    w = np.array([0.5, 0.5])\n",
    "    b = -0.2\n",
    "    tmp = np.sum(w*x) + b\n",
    "    if tmp <= 0:\n",
    "        return 0\n",
    "    else:\n",
    "        return 1\n"
   ]
  },
  {
   "cell_type": "code",
   "execution_count": 4,
   "id": "1b9a8cac",
   "metadata": {},
   "outputs": [
    {
     "name": "stdout",
     "output_type": "stream",
     "text": [
      "0\n",
      "1\n",
      "1\n",
      "0\n"
     ]
    }
   ],
   "source": [
    "def XOR(x1, x2):\n",
    "    s1 = NAND(x1, x2)\n",
    "    s2 = OR(x1, x2)\n",
    "    y = AND(s1, s2)\n",
    "    return y\n",
    "\n",
    "print(XOR(0, 0))\n",
    "print(XOR(0, 1))\n",
    "print(XOR(1, 0))\n",
    "print(XOR(1, 1))"
   ]
  },
  {
   "attachments": {},
   "cell_type": "markdown",
   "id": "12e1f5e9",
   "metadata": {},
   "source": [
    "이렇게 XOR 게이트를 완성했다. 이는 AND와 NAND를 합쳐서 마지막에 OR 게이트를 거친 것이다.\n",
    "\n",
    "* AND, OR, NAND 게이트는 1층이다. 단층 퍼셉트론이라 부른다.\n",
    "* XOR 게이트는 2층짜리이다. 2층부터는 다층 퍼셉으론이라고 한다.\n",
    "\n",
    "XOR 게이트를 배우는 의미는 무엇일까? 단층으로는 구현하지 못한 것을 다층으로 구현하면 구현이 가능해 진다는 점에서 의미가 있다. 골자는 퍼셉트론은 층을 쌓아, 우리가 원하는 것을 표현하는 것이다!"
   ]
  }
 ],
 "metadata": {
  "kernelspec": {
   "display_name": "tf2",
   "language": "python",
   "name": "python3"
  },
  "language_info": {
   "codemirror_mode": {
    "name": "ipython",
    "version": 3
   },
   "file_extension": ".py",
   "mimetype": "text/x-python",
   "name": "python",
   "nbconvert_exporter": "python",
   "pygments_lexer": "ipython3",
   "version": "3.10.6"
  },
  "vscode": {
   "interpreter": {
    "hash": "429d3c4ab745cb5040d1082d56ce2bddcd2ae65139d012657fade8b90ce91472"
   }
  }
 },
 "nbformat": 4,
 "nbformat_minor": 5
}
