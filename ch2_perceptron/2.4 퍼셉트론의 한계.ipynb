{
 "cells": [
  {
   "attachments": {},
   "cell_type": "markdown",
   "id": "03416453",
   "metadata": {},
   "source": [
    "# 2.4.1 도전! XOR 게이트\n",
    "\n",
    "XOR 게이트는 배타적 논리합이라는 논리 회로이다. 아래 그림과 같이 입력값 중 한쪽이 1일 때만 1을 출력한다. 배타적이라는 말을 자기 외에는 거부한다는 뜻이므로, 서로 다를 경우에만 활성화 된다는 의미이다. 같으면 0을 출력하고 다르면 1을 출력하는 것이다.\n",
    "\n",
    "<p align=\"center\"0><img src = \"imgs/2-5.png\" width=500></p> <p align=\"center\"0><img src = \"imgs/2-6.png\" width=500></p>\n",
    "\n",
    "그런데 이는 기존의 퍼셉트론으로 구현이 불가능했다. 그 이유는 위 그래프에서 직선을 하나만 그어 1과 0을 구분하는 문제를 생각해보면 쉽게 이해가 된다. 어떤 선을 그어도 초록점과 파란점을 구분할 수 없을 것이다. 이건 아무리 해도 방법이 없다. 직선이라는 제약을 없앤다면 나눌 수 있긴 한데, 이건 논외로 한다. 아무튼 퍼셉트론은 직선 하나로만 구분할 수 있는 문제만 풀 수 있다는 한계점이 존재한다.\n",
    "\n"
   ]
  }
 ],
 "metadata": {
  "kernelspec": {
   "display_name": "tf2",
   "language": "python",
   "name": "python3"
  },
  "language_info": {
   "codemirror_mode": {
    "name": "ipython",
    "version": 3
   },
   "file_extension": ".py",
   "mimetype": "text/x-python",
   "name": "python",
   "nbconvert_exporter": "python",
   "pygments_lexer": "ipython3",
   "version": "3.10.6 | packaged by conda-forge | (main, Oct  7 2022, 20:14:50) [MSC v.1916 64 bit (AMD64)]"
  },
  "vscode": {
   "interpreter": {
    "hash": "429d3c4ab745cb5040d1082d56ce2bddcd2ae65139d012657fade8b90ce91472"
   }
  }
 },
 "nbformat": 4,
 "nbformat_minor": 5
}
