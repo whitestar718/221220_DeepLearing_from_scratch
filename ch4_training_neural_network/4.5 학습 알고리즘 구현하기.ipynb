{
 "cells": [
  {
   "attachments": {},
   "cell_type": "markdown",
   "id": "a68c927f",
   "metadata": {},
   "source": [
    "지금까지 배운 것을 정리하면, 아래의 4단계를 거쳐 학습이 이루어진다.\n",
    "\n",
    "1. 미내배치 선정\n",
    "2. 기울기 산출\n",
    "3. 매개변수 갱신 (가중치)\n",
    "4. 반복 (1 ~ 3 단계)\n",
    "\n",
    "이 때 미니배치를 무작위로 선정하는 방법을 두고, 확률적 경사 하강법이라고 부른다. 머리글자를 따서 SGD라고도 한다. 그럼 실제로 손글씨 숫자를 학습하는 신경망을 구현해보자.\n",
    "\n",
    "# 4.5.1 2층 신경망 클래스 구현하기"
   ]
  },
  {
   "cell_type": "code",
   "execution_count": 3,
   "id": "3eae8739",
   "metadata": {},
   "outputs": [],
   "source": [
    "import sys, os\n",
    "from common.functions import *\n",
    "from common.gradient import numerical_gradient\n",
    "\n",
    "class TwoLayerNet:\n",
    "    def __init__(self, input_size, hidden_size, output_size,\n",
    "                 weight_init_std=0.01):\n",
    "        # 가중치 초기화\n",
    "        self.params = {}\n",
    "        self.params['W1'] = weight_init_std * \\\n",
    "                            np.random.randn(input_size, hidden_size)\n",
    "        self.params['b1'] = np.zeros(hidden_size)\n",
    "        self.params['W2'] = weight_init_std * \\\n",
    "                            np.random.randn(hidden_size, output_size)\n",
    "        self.params['b2'] = np.zeros(output_size)\n",
    "\n",
    "    def predict(self, x):\n",
    "        W1, W2 = self.params['W1'], self.params['W2']\n",
    "        b1, b2 = self.params['b1'], self.params['b2']\n",
    "\n",
    "        a1 = np.dot(x, W1) + b1\n",
    "        z1 = sigmoid(a1)\n",
    "        a2 = np.dot(z1, W2) + b2\n",
    "        z2 = sigmoid(a2)\n",
    "\n",
    "        return z2\n",
    "\n",
    "    def loss(self, x, t):\n",
    "        y = self.predict(x)\n",
    "        return cross_entropy_error(y, t)\n",
    "\n",
    "    def accuracy(self, x, t):\n",
    "        y = self.predict(x)\n",
    "        y = np.argmax(y, axis=1)\n",
    "        t = np.argmax(t, axis=1)\n",
    "        \n",
    "        accuracy = np.sum(y == t) / float(x.shape[0])\n",
    "        return accuracy\n",
    "\n",
    "    def numerical_gradient(self, x, t):\n",
    "        loss_W = lambda W: self.loss(x, t)\n",
    "\n",
    "        grads = {}\n",
    "        grads['W1'] = numerical_gradient(loss_W, self.params['W1'])\n",
    "        grads['b1'] = numerical_gradient(loss_W, self.params['b1'])\n",
    "        grads['W2'] = numerical_gradient(loss_W, self.params['W2'])\n",
    "        grads['b2'] = numerical_gradient(loss_W, self.params['b2'])\n",
    "\n",
    "        return grads"
   ]
  },
  {
   "attachments": {},
   "cell_type": "markdown",
   "id": "91100327",
   "metadata": {},
   "source": [
    "<p align=\"center\"><img src=\"imgs/4-10s.png\" width=500></p>"
   ]
  },
  {
   "cell_type": "code",
   "execution_count": 5,
   "id": "75db29f3",
   "metadata": {},
   "outputs": [
    {
     "name": "stdout",
     "output_type": "stream",
     "text": [
      "(784, 100)\n",
      "(100,)\n",
      "(100, 10)\n",
      "(10,)\n"
     ]
    }
   ],
   "source": [
    "net = TwoLayerNet(input_size=784, hidden_size=100, output_size=10)\n",
    "print(net.params['W1'].shape)\n",
    "print(net.params['b1'].shape)\n",
    "print(net.params['W2'].shape)\n",
    "print(net.params['b2'].shape)"
   ]
  },
  {
   "attachments": {},
   "cell_type": "markdown",
   "id": "7ea4da70",
   "metadata": {},
   "source": [
    "위와 같이 params 변수에 신경망에 필요한 가중치를 모두 저장한다. 책에서는 매개변수라고 표현하는데, 가중치랑 동일한 의미이다. 여기서 가중치에는 바이어스도 포함된다. 이러한 가중치들은 순방향 계산에 이용된다. 참고로 예측 처리는 다음과 같이 실행할 수 있다."
   ]
  },
  {
   "cell_type": "code",
   "execution_count": 9,
   "id": "a61f64c4",
   "metadata": {},
   "outputs": [
    {
     "data": {
      "text/plain": [
       "(100, 10)"
      ]
     },
     "execution_count": 9,
     "metadata": {},
     "output_type": "execute_result"
    }
   ],
   "source": [
    "import numpy as np\n",
    "\n",
    "x = np.random.rand(100, 784)\n",
    "y = net.predict(x)\n",
    "y.shape"
   ]
  },
  {
   "cell_type": "code",
   "execution_count": 11,
   "id": "f94a50b8",
   "metadata": {},
   "outputs": [
    {
     "name": "stdout",
     "output_type": "stream",
     "text": [
      "(784, 100)\n",
      "(100,)\n",
      "(100, 10)\n",
      "(10,)\n"
     ]
    }
   ],
   "source": [
    "x = np.random.rand(100, 784)\n",
    "t = np.random.rand(100, 10)\n",
    "\n",
    "grads = net.numerical_gradient(x, t)\n",
    "\n",
    "print(grads['W1'].shape)\n",
    "print(grads['b1'].shape)\n",
    "print(grads['W2'].shape)\n",
    "print(grads['b2'].shape)"
   ]
  },
  {
   "attachments": {},
   "cell_type": "markdown",
   "id": "e3ef6331",
   "metadata": {},
   "source": [
    "위의 계산은 numerical_gradient를 사용하는데, 시간이 꽤 오래 걸린다. 이와 유사하지만 거의 비슷한 계산을 하는 함수가 gradient 함수인데, 이를 이해하는 것에 중점을 두면 좋을 것 같다.\n",
    "\n",
    "# 4.5.2 미니배치 학습 구현하기"
   ]
  },
  {
   "cell_type": "code",
   "execution_count": 6,
   "id": "68d0defa",
   "metadata": {},
   "outputs": [
    {
     "name": "stdout",
     "output_type": "stream",
     "text": [
      "0\n",
      "1\n",
      "2\n",
      "3\n",
      "4\n",
      "5\n",
      "6\n",
      "7\n",
      "8\n",
      "9\n"
     ]
    }
   ],
   "source": [
    "import numpy as np\n",
    "from dataset.mnist import load_mnist\n",
    "from two_layer_net import TwoLayerNet\n",
    "\n",
    "(train_x, train_y), (test_x, test_y) = load_mnist(\n",
    "    normalize=True, one_hot_label=True\n",
    ")\n",
    "\n",
    "train_loss_list = []\n",
    "\n",
    "# hyper-parameters\n",
    "iter_num = 10\n",
    "train_size = train_x.shape[0]\n",
    "batch_size = 100\n",
    "learning_rate = 0.1\n",
    "\n",
    "network = TwoLayerNet(input_size=784, hidden_size=50, output_size=10)\n",
    "\n",
    "for i in range(iter_num):\n",
    "    print(i)\n",
    "    # 미니배치 가져오기\n",
    "    batch_mask = np.random.choice(train_size, batch_size)\n",
    "    x_batch = train_x[batch_mask]\n",
    "    y_batch = train_y[batch_mask]\n",
    "\n",
    "    # 기울기 계산\n",
    "    grad = network.numerical_gradient(x_batch, y_batch)\n",
    "\n",
    "    for key in ('W1', 'b1', 'W2', 'b2'):\n",
    "        network.params[key] -= learning_rate * grad[key]\n",
    "\n",
    "    # 학습 경과 기록\n",
    "    loss = network.loss(x_batch, y_batch)\n",
    "    train_loss_list.append(loss)"
   ]
  },
  {
   "attachments": {},
   "cell_type": "markdown",
   "id": "f446ac67",
   "metadata": {},
   "source": [
    "너무 오래 걸려서 포기... 일단은 10에폭만 돌렸다. 그래프르르 그려보면 아래와 같이 그려진다고 한다.\n",
    "\n",
    "<p align=\"center\"><img src=\"imgs/4-11.png\" width=600></p>\n",
    "\n",
    "# 4.5.3 시험 데이터로 평가하기\n",
    "\n",
    "위의 그래프에서 잠깐 학습을 진행했다. 그래프를 잘 보면, 손실함수의 값이 점점 줄어드는 것을 확인할 수 있다. 이는 신경망이 잘 학습되고 있다는 말이지만, 이 모델을 전체 데이터에 적용할 수 있는 지는 또 다른 문제이다. 이를 모델의 일반화 문제라고 하는데, 학습이 잘 되었을지라도 이것이 현재 데이터에만 너무 맞춰져 학습이 되지 않았는지 확인하는 절차가 필요하다. 현재 데이터에만 너무 피팅된 것은 오버피팅이라고 하는데, 딥러닝 학습에서 이 오버피팅 문제를 항상 잘 해결해야 한다. 먼저, 오버피팅이 발생했는지 확인해는 것부터 해보자. 이는 TEST Data로 평가하는 방식을 통해 알아낼 수 있다.\n"
   ]
  },
  {
   "cell_type": "code",
   "execution_count": 2,
   "id": "eba3c88c",
   "metadata": {},
   "outputs": [
    {
     "name": "stdout",
     "output_type": "stream",
     "text": [
      "iter per epoch: 600.0\n"
     ]
    },
    {
     "ename": "IndexError",
     "evalue": "arrays used as indices must be of integer (or boolean) type",
     "output_type": "error",
     "traceback": [
      "\u001b[1;31m---------------------------------------------------------------------------\u001b[0m",
      "\u001b[1;31mIndexError\u001b[0m                                Traceback (most recent call last)",
      "\u001b[1;32mc:\\Users\\white\\github\\221220_DeepLearing_from_scratch\\ch4_training_neural_network\\4.5 학습 알고리즘 구현하기.ipynb Cell 11\u001b[0m in \u001b[0;36m<cell line: 25>\u001b[1;34m()\u001b[0m\n\u001b[0;32m     <a href='vscode-notebook-cell:/c%3A/Users/white/github/221220_DeepLearing_from_scratch/ch4_training_neural_network/4.5%20%ED%95%99%EC%8A%B5%20%EC%95%8C%EA%B3%A0%EB%A6%AC%EC%A6%98%20%EA%B5%AC%ED%98%84%ED%95%98%EA%B8%B0.ipynb#X52sZmlsZQ%3D%3D?line=28'>29</a>\u001b[0m t_batch \u001b[39m=\u001b[39m train_x[batch_mask]\n\u001b[0;32m     <a href='vscode-notebook-cell:/c%3A/Users/white/github/221220_DeepLearing_from_scratch/ch4_training_neural_network/4.5%20%ED%95%99%EC%8A%B5%20%EC%95%8C%EA%B3%A0%EB%A6%AC%EC%A6%98%20%EA%B5%AC%ED%98%84%ED%95%98%EA%B8%B0.ipynb#X52sZmlsZQ%3D%3D?line=30'>31</a>\u001b[0m \u001b[39m# 기울기 계산\u001b[39;00m\n\u001b[1;32m---> <a href='vscode-notebook-cell:/c%3A/Users/white/github/221220_DeepLearing_from_scratch/ch4_training_neural_network/4.5%20%ED%95%99%EC%8A%B5%20%EC%95%8C%EA%B3%A0%EB%A6%AC%EC%A6%98%20%EA%B5%AC%ED%98%84%ED%95%98%EA%B8%B0.ipynb#X52sZmlsZQ%3D%3D?line=31'>32</a>\u001b[0m grad \u001b[39m=\u001b[39m network\u001b[39m.\u001b[39;49mnumerical_gradient(x_batch, t_batch)\n\u001b[0;32m     <a href='vscode-notebook-cell:/c%3A/Users/white/github/221220_DeepLearing_from_scratch/ch4_training_neural_network/4.5%20%ED%95%99%EC%8A%B5%20%EC%95%8C%EA%B3%A0%EB%A6%AC%EC%A6%98%20%EA%B5%AC%ED%98%84%ED%95%98%EA%B8%B0.ipynb#X52sZmlsZQ%3D%3D?line=32'>33</a>\u001b[0m \u001b[39m# grad = network.gradient(x_batch, t_batch)\u001b[39;00m\n\u001b[0;32m     <a href='vscode-notebook-cell:/c%3A/Users/white/github/221220_DeepLearing_from_scratch/ch4_training_neural_network/4.5%20%ED%95%99%EC%8A%B5%20%EC%95%8C%EA%B3%A0%EB%A6%AC%EC%A6%98%20%EA%B5%AC%ED%98%84%ED%95%98%EA%B8%B0.ipynb#X52sZmlsZQ%3D%3D?line=33'>34</a>\u001b[0m \n\u001b[0;32m     <a href='vscode-notebook-cell:/c%3A/Users/white/github/221220_DeepLearing_from_scratch/ch4_training_neural_network/4.5%20%ED%95%99%EC%8A%B5%20%EC%95%8C%EA%B3%A0%EB%A6%AC%EC%A6%98%20%EA%B5%AC%ED%98%84%ED%95%98%EA%B8%B0.ipynb#X52sZmlsZQ%3D%3D?line=34'>35</a>\u001b[0m \u001b[39m# 매개변수 갱신\u001b[39;00m\n\u001b[0;32m     <a href='vscode-notebook-cell:/c%3A/Users/white/github/221220_DeepLearing_from_scratch/ch4_training_neural_network/4.5%20%ED%95%99%EC%8A%B5%20%EC%95%8C%EA%B3%A0%EB%A6%AC%EC%A6%98%20%EA%B5%AC%ED%98%84%ED%95%98%EA%B8%B0.ipynb#X52sZmlsZQ%3D%3D?line=35'>36</a>\u001b[0m \u001b[39mfor\u001b[39;00m key \u001b[39min\u001b[39;00m (\u001b[39m'\u001b[39m\u001b[39mW1\u001b[39m\u001b[39m'\u001b[39m, \u001b[39m'\u001b[39m\u001b[39mb1\u001b[39m\u001b[39m'\u001b[39m, \u001b[39m'\u001b[39m\u001b[39mW2\u001b[39m\u001b[39m'\u001b[39m, \u001b[39m'\u001b[39m\u001b[39mb2\u001b[39m\u001b[39m'\u001b[39m):\n",
      "File \u001b[1;32mc:\\Users\\white\\github\\221220_DeepLearing_from_scratch\\ch4_training_neural_network\\two_layer_net.py:44\u001b[0m, in \u001b[0;36mTwoLayerNet.numerical_gradient\u001b[1;34m(self, x, t)\u001b[0m\n\u001b[0;32m     41\u001b[0m loss_W \u001b[39m=\u001b[39m \u001b[39mlambda\u001b[39;00m W: \u001b[39mself\u001b[39m\u001b[39m.\u001b[39mloss(x, t)\n\u001b[0;32m     43\u001b[0m grads \u001b[39m=\u001b[39m {}\n\u001b[1;32m---> 44\u001b[0m grads[\u001b[39m'\u001b[39m\u001b[39mW1\u001b[39m\u001b[39m'\u001b[39m] \u001b[39m=\u001b[39m numerical_gradient_2d(loss_W, \u001b[39mself\u001b[39;49m\u001b[39m.\u001b[39;49mparams[\u001b[39m'\u001b[39;49m\u001b[39mW1\u001b[39;49m\u001b[39m'\u001b[39;49m])\n\u001b[0;32m     45\u001b[0m grads[\u001b[39m'\u001b[39m\u001b[39mb1\u001b[39m\u001b[39m'\u001b[39m] \u001b[39m=\u001b[39m numerical_gradient_2d(loss_W, \u001b[39mself\u001b[39m\u001b[39m.\u001b[39mparams[\u001b[39m'\u001b[39m\u001b[39mb1\u001b[39m\u001b[39m'\u001b[39m])\n\u001b[0;32m     46\u001b[0m grads[\u001b[39m'\u001b[39m\u001b[39mW2\u001b[39m\u001b[39m'\u001b[39m] \u001b[39m=\u001b[39m numerical_gradient_2d(loss_W, \u001b[39mself\u001b[39m\u001b[39m.\u001b[39mparams[\u001b[39m'\u001b[39m\u001b[39mW2\u001b[39m\u001b[39m'\u001b[39m])\n",
      "File \u001b[1;32mc:\\Users\\white\\github\\221220_DeepLearing_from_scratch\\ch4_training_neural_network\\common\\gradient.py:29\u001b[0m, in \u001b[0;36mnumerical_gradient_2d\u001b[1;34m(f, X)\u001b[0m\n\u001b[0;32m     26\u001b[0m grad \u001b[39m=\u001b[39m np\u001b[39m.\u001b[39mzeros_like(X)\n\u001b[0;32m     28\u001b[0m \u001b[39mfor\u001b[39;00m idx, x \u001b[39min\u001b[39;00m \u001b[39menumerate\u001b[39m(X):\n\u001b[1;32m---> 29\u001b[0m     grad[idx] \u001b[39m=\u001b[39m _numerical_gradient_1d(f, x)\n\u001b[0;32m     31\u001b[0m \u001b[39mreturn\u001b[39;00m grad\n",
      "File \u001b[1;32mc:\\Users\\white\\github\\221220_DeepLearing_from_scratch\\ch4_training_neural_network\\common\\gradient.py:11\u001b[0m, in \u001b[0;36m_numerical_gradient_1d\u001b[1;34m(f, x)\u001b[0m\n\u001b[0;32m      9\u001b[0m tmp_val \u001b[39m=\u001b[39m x[idx]\n\u001b[0;32m     10\u001b[0m x[idx] \u001b[39m=\u001b[39m \u001b[39mfloat\u001b[39m(tmp_val) \u001b[39m+\u001b[39m h\n\u001b[1;32m---> 11\u001b[0m fxh1 \u001b[39m=\u001b[39m f(x) \u001b[39m# f(x+h)\u001b[39;00m\n\u001b[0;32m     13\u001b[0m x[idx] \u001b[39m=\u001b[39m tmp_val \u001b[39m-\u001b[39m h \n\u001b[0;32m     14\u001b[0m fxh2 \u001b[39m=\u001b[39m f(x) \u001b[39m# f(x-h)\u001b[39;00m\n",
      "File \u001b[1;32mc:\\Users\\white\\github\\221220_DeepLearing_from_scratch\\ch4_training_neural_network\\two_layer_net.py:41\u001b[0m, in \u001b[0;36mTwoLayerNet.numerical_gradient.<locals>.<lambda>\u001b[1;34m(W)\u001b[0m\n\u001b[0;32m     40\u001b[0m \u001b[39mdef\u001b[39;00m \u001b[39mnumerical_gradient\u001b[39m(\u001b[39mself\u001b[39m, x, t):\n\u001b[1;32m---> 41\u001b[0m     loss_W \u001b[39m=\u001b[39m \u001b[39mlambda\u001b[39;00m W: \u001b[39mself\u001b[39;49m\u001b[39m.\u001b[39;49mloss(x, t)\n\u001b[0;32m     43\u001b[0m     grads \u001b[39m=\u001b[39m {}\n\u001b[0;32m     44\u001b[0m     grads[\u001b[39m'\u001b[39m\u001b[39mW1\u001b[39m\u001b[39m'\u001b[39m] \u001b[39m=\u001b[39m numerical_gradient_2d(loss_W, \u001b[39mself\u001b[39m\u001b[39m.\u001b[39mparams[\u001b[39m'\u001b[39m\u001b[39mW1\u001b[39m\u001b[39m'\u001b[39m])\n",
      "File \u001b[1;32mc:\\Users\\white\\github\\221220_DeepLearing_from_scratch\\ch4_training_neural_network\\two_layer_net.py:30\u001b[0m, in \u001b[0;36mTwoLayerNet.loss\u001b[1;34m(self, x, t)\u001b[0m\n\u001b[0;32m     28\u001b[0m \u001b[39mdef\u001b[39;00m \u001b[39mloss\u001b[39m(\u001b[39mself\u001b[39m, x, t):\n\u001b[0;32m     29\u001b[0m     y \u001b[39m=\u001b[39m \u001b[39mself\u001b[39m\u001b[39m.\u001b[39mpredict(x)\n\u001b[1;32m---> 30\u001b[0m     \u001b[39mreturn\u001b[39;00m cross_entropy_error(y, t)\n",
      "File \u001b[1;32mc:\\Users\\white\\github\\221220_DeepLearing_from_scratch\\ch4_training_neural_network\\common\\functions.py:56\u001b[0m, in \u001b[0;36mcross_entropy_error\u001b[1;34m(y, t)\u001b[0m\n\u001b[0;32m     53\u001b[0m     t \u001b[39m=\u001b[39m t\u001b[39m.\u001b[39margmax(axis\u001b[39m=\u001b[39m\u001b[39m1\u001b[39m)\n\u001b[0;32m     55\u001b[0m batch_size \u001b[39m=\u001b[39m y\u001b[39m.\u001b[39mshape[\u001b[39m0\u001b[39m]\n\u001b[1;32m---> 56\u001b[0m \u001b[39mreturn\u001b[39;00m \u001b[39m-\u001b[39mnp\u001b[39m.\u001b[39msum(np\u001b[39m.\u001b[39mlog(y[np\u001b[39m.\u001b[39;49marange(batch_size), t] \u001b[39m+\u001b[39m \u001b[39m1e-7\u001b[39m)) \u001b[39m/\u001b[39m batch_size\n",
      "\u001b[1;31mIndexError\u001b[0m: arrays used as indices must be of integer (or boolean) type"
     ]
    }
   ],
   "source": [
    "import numpy as np\n",
    "from dataset.mnist import load_mnist\n",
    "from two_layer_net import TwoLayerNet\n",
    "\n",
    "(train_x, train_y), (test_x, test_y) = load_mnist(\n",
    "    normalize=True, one_hot_label=True\n",
    ")\n",
    "\n",
    "network = TwoLayerNet(input_size=784, hidden_size=50, output_size=10)\n",
    "\n",
    "# 하이퍼파라미터\n",
    "iter_num = 10000\n",
    "train_size = train_x.shape[0]\n",
    "batch_size = 100\n",
    "learning_rate = 0.1\n",
    "\n",
    "train_loss_list = []\n",
    "train_acc_list = []\n",
    "test_acc_list = []\n",
    "\n",
    "# 1 에폭 당 반복 수\n",
    "iter_per_epoch = max(train_size / batch_size, 1)\n",
    "print('iter per epoch:', iter_per_epoch)\n",
    "\n",
    "for i in range(iter_num):\n",
    "    # 미니배치 획득\n",
    "    batch_mask = np.random.choice(train_size, batch_size)\n",
    "    x_batch = train_x[batch_mask]\n",
    "    t_batch = train_x[batch_mask]\n",
    "\n",
    "    # 기울기 계산\n",
    "    grad = network.numerical_gradient(x_batch, t_batch)\n",
    "    # grad = network.gradient(x_batch, t_batch)\n",
    "\n",
    "    # 매개변수 갱신\n",
    "    for key in ('W1', 'b1', 'W2', 'b2'):\n",
    "        network.params[key] -= learning_rate * grad[key]\n",
    "\n",
    "    # 학습 경과 기록\n",
    "    loss = network.loss(x_batch, y_batch)\n",
    "    train_loss_list.append(loss)\n",
    "\n",
    "    # 1 에폭당 정확도 계산\n",
    "    if i % iter_per_epoch == 0:\n",
    "        train_acc = network.accuracy(train_x, train_y)\n",
    "        test_acc = network.accuracy(test_x, test_y)\n",
    "        train_acc_list.append(train_acc)\n",
    "        test_acc_list.append(test_acc)\n",
    "\n",
    "        print('train_acc, test_acc  | ' + str(train_acc) + ',' + str(test_acc))"
   ]
  }
 ],
 "metadata": {
  "kernelspec": {
   "display_name": "tf2",
   "language": "python",
   "name": "python3"
  },
  "language_info": {
   "codemirror_mode": {
    "name": "ipython",
    "version": 3
   },
   "file_extension": ".py",
   "mimetype": "text/x-python",
   "name": "python",
   "nbconvert_exporter": "python",
   "pygments_lexer": "ipython3",
   "version": "3.10.6"
  },
  "vscode": {
   "interpreter": {
    "hash": "429d3c4ab745cb5040d1082d56ce2bddcd2ae65139d012657fade8b90ce91472"
   }
  }
 },
 "nbformat": 4,
 "nbformat_minor": 5
}
