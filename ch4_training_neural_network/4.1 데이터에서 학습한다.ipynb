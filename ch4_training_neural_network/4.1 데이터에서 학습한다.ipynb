{
 "cells": [
  {
   "attachments": {},
   "cell_type": "markdown",
   "id": "99b825d0",
   "metadata": {},
   "source": [
    "2장에서는 진리표를 보며 사람이 직접 가중치 매개변수를 설정했다. 그러나 사실 신경망의 가중치는 엄청 많다. 수천에서 수만개 까지 늘어날 수 있다. 이번 장에서는 신경망 학습에 대해 설명하고, MNIST 데이터셋의 손글씨 학습 코드를 구현해 볼 것이다.\n",
    "\n",
    "# 4.1.1 데이터 주도 학습\n",
    "\n",
    "누가 뭐라해도 역시.. 기계학습은 데이터가 생명이다. 보통은 EDA를 통해 데이터의 특징을 파악하지만, 이런 노력을 최소화할 수 있다면 무척 좋을 것이다. 기계학습은 이러한 노력을 최소화 하고 데이터로부터 패턴을 찾으려고 한다. 사람의 개입을 최소화 하는 방향으로 기계학습은 돌아간다. 간단한 예를 하나 들어보자. 5라는 숫자를 인식한다고 했을 때, 규칙을 설정해야 한다면 어떻게 해야 할까?\n",
    "<br>\n",
    "\n",
    "<p align=\"center\"><img src=\"imgs/4-1.png\" width=800></p>\n",
    "<br>\n",
    "\n",
    "쉽지 않을 텐데, 그러니까 데이터로부터 패턴을 찾는 것이 더 쉽다는 말이다. 그런 방법 중의 하나로 이미지로부터 Feature를 뽑아내고, 그 Feature를 학습하는 방법이 있다. Feature를 뽑아내는 방법은 아래 3가지가 있는데... 시간이 되면 공부해보는 것도 좋을 것 같다.\n",
    "\n",
    "* SIFT\n",
    "* SURF\n",
    "* HOG\n",
    "\n",
    "그 다음에는 기계학습 알고리즘을 써서 학습이 진행된다. 데이터로부터 Feature를 찾아내는 것은? 컴퓨터가 알아서 해준다. 사람이 고민할 일이 아니라는 것이다. 헷갈리면 아래 그림을 살펴보자. 우리가 알아야 하는 것은 맨 마지막에 나와있는 녀석이다.<br>\n",
    "\n",
    "<p align=\"center\"><img src=\"imgs/4-2.png\" width=800></p><br>\n",
    "\n",
    "신경망은 역시 위대하다.\n",
    "\n",
    "# 4.1.2 훈련 데이터와 시험 데이터\n",
    "\n",
    "* 흔히들 말하는 train/test 데이터셋이다.\n",
    "* 범용성을 평가하기 위해 test를 따로 둔다. (모델의 일반화 정도)\n",
    "* test 데이터셋에서 성능이 안나오면, overfitting 됬다고 표현한다."
   ]
  }
 ],
 "metadata": {
  "kernelspec": {
   "display_name": "tf2",
   "language": "python",
   "name": "python3"
  },
  "language_info": {
   "codemirror_mode": {
    "name": "ipython",
    "version": 3
   },
   "file_extension": ".py",
   "mimetype": "text/x-python",
   "name": "python",
   "nbconvert_exporter": "python",
   "pygments_lexer": "ipython3",
   "version": "3.8.13 (default, Oct 19 2022, 22:38:03) [MSC v.1916 64 bit (AMD64)]"
  },
  "vscode": {
   "interpreter": {
    "hash": "429d3c4ab745cb5040d1082d56ce2bddcd2ae65139d012657fade8b90ce91472"
   }
  }
 },
 "nbformat": 4,
 "nbformat_minor": 5
}
