{
 "cells": [
  {
   "attachments": {},
   "cell_type": "markdown",
   "id": "12ca7032",
   "metadata": {},
   "source": [
    "# 3.3.1 다차원배열\n",
    "\n",
    "1차원 배열부터 구현해보자."
   ]
  },
  {
   "cell_type": "code",
   "execution_count": 3,
   "id": "7a52391c",
   "metadata": {},
   "outputs": [
    {
     "name": "stdout",
     "output_type": "stream",
     "text": [
      "[1 2 3 4]\n",
      "1\n",
      "(4,)\n",
      "4\n"
     ]
    }
   ],
   "source": [
    "import numpy as np\n",
    "\n",
    "A = np.array([1, 2, 3, 4])\n",
    "print(A)\n",
    "print(A.ndim)       # 배열의 차원 수 확인\n",
    "print(A.shape)      # 형상 확인\n",
    "print(A.shape[0])   # 1번째 차원의 모양"
   ]
  },
  {
   "cell_type": "code",
   "execution_count": 4,
   "id": "b6d326ef",
   "metadata": {},
   "outputs": [
    {
     "name": "stdout",
     "output_type": "stream",
     "text": [
      "[[1 2]\n",
      " [3 4]\n",
      " [5 6]]\n",
      "2\n",
      "(3, 2)\n"
     ]
    }
   ],
   "source": [
    "B = np.array([[1, 2], [3, 4], [5, 6]])\n",
    "print(B)\n",
    "print(B.ndim)\n",
    "print(B.shape)"
   ]
  },
  {
   "attachments": {},
   "cell_type": "markdown",
   "id": "17abdc2d",
   "metadata": {},
   "source": [
    "* 2차원 배열은 행렬이라고 부른다. (Matrix)\n",
    "* 가로는 행, 세로는 열이다. (row, column)\n",
    "\n",
    "# 3.3.2 행렬의 곱\n",
    "\n",
    "행렬의 곱은 np.dot으로 구현할 수 있다. elementwise가 아니라는 점을 기억하자."
   ]
  },
  {
   "cell_type": "code",
   "execution_count": 5,
   "id": "41de69ef",
   "metadata": {},
   "outputs": [
    {
     "data": {
      "text/plain": [
       "array([[19, 22],\n",
       "       [43, 50]])"
      ]
     },
     "execution_count": 5,
     "metadata": {},
     "output_type": "execute_result"
    }
   ],
   "source": [
    "A = np.array([[1, 2], [3, 4]])\n",
    "B = np.array([[5, 6], [7, 8]])\n",
    "\n",
    "np.dot(A, B)"
   ]
  },
  {
   "cell_type": "code",
   "execution_count": 7,
   "id": "6b58e286",
   "metadata": {},
   "outputs": [
    {
     "name": "stdout",
     "output_type": "stream",
     "text": [
      "(2, 3) (3, 2)\n"
     ]
    },
    {
     "data": {
      "text/plain": [
       "array([[22, 28],\n",
       "       [49, 64]])"
      ]
     },
     "execution_count": 7,
     "metadata": {},
     "output_type": "execute_result"
    }
   ],
   "source": [
    "A = np.array([[1, 2, 3], [4, 5, 6]])\n",
    "B = np.array([[1, 2], [3, 4], [5, 6]])\n",
    "\n",
    "print(A.shape, B.shape)\n",
    "np.dot(A, B)"
   ]
  },
  {
   "attachments": {},
   "cell_type": "markdown",
   "id": "1b9aad84",
   "metadata": {},
   "source": [
    "행렬의 곱에서는 대응되는 차원의 수를 일치 시켜야 한다. 위의 예시에서 3 x 2 행렬과 2 x 3 행렬의 곱을 살펴보았다. 가운데 차원의 수가 2로 같은 것을 알 수 있다. 그래서 행렬의 곱셈이 가능한 것이다. 행렬의 곱셈은 꼭 차원의 수가 같아야지만 할 수 있는 것은 아니다. 차원의 수가 달라도 행렬의 곱셈이 가능하다."
   ]
  },
  {
   "cell_type": "code",
   "execution_count": 12,
   "id": "eb77cd81",
   "metadata": {},
   "outputs": [
    {
     "data": {
      "text/plain": [
       "array([23, 53, 83])"
      ]
     },
     "execution_count": 12,
     "metadata": {},
     "output_type": "execute_result"
    }
   ],
   "source": [
    "A = np.array([[1, 2], [3, 4], [5, 6]])\n",
    "B = np.array([7, 8])\n",
    "\n",
    "np.dot(A, B)"
   ]
  },
  {
   "attachments": {},
   "cell_type": "markdown",
   "id": "57787dda",
   "metadata": {},
   "source": [
    "# 3.3.3 신경망에서의 행렬곱"
   ]
  },
  {
   "attachments": {},
   "cell_type": "markdown",
   "id": "b285c9ab",
   "metadata": {},
   "source": [
    "그럼 이제 넘파이 행렬을 써서 신경망을 구현해보자. 아래 그림을 코드로 구현해 본다.\n",
    "\n",
    "<p align=\"center\"><img src=\"imgs/3-14.png\" width=700></p>"
   ]
  },
  {
   "cell_type": "code",
   "execution_count": 15,
   "id": "773d4c0a",
   "metadata": {},
   "outputs": [
    {
     "name": "stdout",
     "output_type": "stream",
     "text": [
      "(2,)\n",
      "(2, 3)\n",
      "[ 5 11 17]\n"
     ]
    }
   ],
   "source": [
    "X = np.array([1, 2])\n",
    "print(X.shape)\n",
    "\n",
    "W = np.array([[1, 3, 5], [2, 4, 6]])\n",
    "print(W.shape)\n",
    "\n",
    "Y = np.dot(X, W)\n",
    "print(Y)"
   ]
  },
  {
   "attachments": {},
   "cell_type": "markdown",
   "id": "9051af42",
   "metadata": {},
   "source": [
    "np.dot 함수를 사용하지 않으면, Y의 원소를 하나하나 다 따져봐야 한다. np.dot을 사용하면 Y의 원소가 100개이든, 1000개이든 한 번에 계산이 가능하다."
   ]
  }
 ],
 "metadata": {
  "kernelspec": {
   "display_name": "tf2",
   "language": "python",
   "name": "tf2"
  },
  "language_info": {
   "codemirror_mode": {
    "name": "ipython",
    "version": 3
   },
   "file_extension": ".py",
   "mimetype": "text/x-python",
   "name": "python",
   "nbconvert_exporter": "python",
   "pygments_lexer": "ipython3",
   "version": "3.10.6"
  }
 },
 "nbformat": 4,
 "nbformat_minor": 5
}
