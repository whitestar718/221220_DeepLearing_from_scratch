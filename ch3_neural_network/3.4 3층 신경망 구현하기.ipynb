{
 "cells": [
  {
   "cell_type": "markdown",
   "id": "496f2af9",
   "metadata": {},
   "source": [
    "* 각각의 동그라미는 노드라고도 불리고, 뉴런이라고도 함.\n",
    "* 지금은 순방향 신경망이고, 아직 역전파 개념이 등장하기 전.\n",
    "* FC Layers (Fully connected layers)\n",
    "\n",
    "<p align=\"center\"><img src=\"3_15.png\" width=500></p>\n",
    "<br><br><br>"
   ]
  },
  {
   "cell_type": "markdown",
   "id": "bc0eb12f",
   "metadata": {},
   "source": [
    "# 3.4.1 표기법 설명\n",
    "(1)이라는 것은 1층의 가중치를 의미한다. 밑에 있는 작은 숫자들은 to, from의 순서라는 점을 기억하자. 그런데 이것이 일반적으로 통용되는 표기법인지 아니면 여기서만 국한되서 사용되는 것인지는 모르겠다.\n",
    "<p align=\"center\"><img src=\"3-16.png\" width=500></p>"
   ]
  },
  {
   "cell_type": "markdown",
   "id": "cc7d847b",
   "metadata": {},
   "source": [
    "# 3.4.2 각 층의 신호 전달 구현하기\n",
    "\n",
    "1층의 첫 번째 뉴런으로 가는 신호를 살펴보자. 작은 글자들에 표기되어 있는 것이 무슨 뜻인지 알면, 의미들을 쉽게 파악할 수 있다. 아무거나 선을 하나 정해서, 그 선에 표기될 기호들이 어떻게 될 지 알아맞춰 보는 것도 좋다.\n",
    "\n",
    "<p align=\"center\"><img src=\"3-17.png\" width=500></p>\n",
    "\n",
    "이제 은닉층 중 첫 번째 뉴런을 수식으로 구현해보자. 아래와 같이 식을 전개할 수 있다. 포인트는 행렬의 shape이다. 왜 1 x 3 행렬이 나오는지 이해하면 넘어가도 좋다. 아래 코드는 np.dot을 이용한 연산이다. elementwise 방식이 필요할 때, 행렬 곱 연산이 필요할 때 어떻게 구현해야 하는지 각각 알아두도록 하자.\n",
    "\n",
    "<p align=\"center\"><img src=\"3-17-2.png\" width=500></p>"
   ]
  },
  {
   "cell_type": "code",
   "execution_count": 6,
   "id": "1102a675",
   "metadata": {},
   "outputs": [
    {
     "name": "stdout",
     "output_type": "stream",
     "text": [
      "(2, 3)\n",
      "(2,)\n",
      "(3,)\n",
      "---------------------\n",
      "[0.3 0.7 1.1] (3,)\n"
     ]
    }
   ],
   "source": [
    "import numpy as np\n",
    "\n",
    "X = np.array([1.0, 0.5])\n",
    "W1 = np.array([[0.1, 0.3, 0.5], [0.2, 0.4, 0.6]])\n",
    "B1 = np.array([0.1, 0.2, 0.3])\n",
    "\n",
    "print(W1.shape)\n",
    "print(X.shape)\n",
    "print(B1.shape)\n",
    "\n",
    "print('---------------------')\n",
    "\n",
    "A1 = np.dot(X, W1) + B1\n",
    "print(A1, A1.shape)"
   ]
  },
  {
   "cell_type": "markdown",
   "id": "28921dd5",
   "metadata": {},
   "source": [
    "이제 A1을 활성화 함수에 통과시킬 차례다. 활성화 함수는 시그모이드를 사용한다. 이전 장에서 구현해 둔 것인데, lib 디렉토리에 구현해 둔 것을 쓰도록 하겠다. 시그모이드 함수를 통과하면, 출력값이 0과 1 사이의 값으로 바뀐다.\n",
    "\n",
    "<p align=\"center\"><img src=\"3-18.png\" width=500></p>"
   ]
  },
  {
   "cell_type": "code",
   "execution_count": 8,
   "id": "f26f0d0f",
   "metadata": {
    "scrolled": true
   },
   "outputs": [
    {
     "name": "stdout",
     "output_type": "stream",
     "text": [
      "[0.3 0.7 1.1]\n",
      "[0.57444252 0.66818777 0.75026011]\n"
     ]
    }
   ],
   "source": [
    "from lib.activation import sigmoid\n",
    "\n",
    "Z1 = sigmoid(A1)\n",
    "\n",
    "print(A1)\n",
    "print(Z1)"
   ]
  },
  {
   "cell_type": "markdown",
   "id": "ba387707",
   "metadata": {},
   "source": [
    "이제 Z1에서 은닉층(2)로 넘어가는 것을 구현해보자. 앞과 다른 점은 뉴런이 3개로 늘어났다는 것이다.\n",
    "\n",
    "<p align=\"center\"><img src=\"3-19.png\" width=500></p>"
   ]
  },
  {
   "cell_type": "code",
   "execution_count": 9,
   "id": "a3e8c8db",
   "metadata": {},
   "outputs": [
    {
     "name": "stdout",
     "output_type": "stream",
     "text": [
      "(3,)\n",
      "(3, 2)\n",
      "(2,)\n"
     ]
    }
   ],
   "source": [
    "W2 = np.array([[0.1, 0.4], [0.2, 0.5], [0.3, 0.6]])\n",
    "B2 = np.array([0.1, 0.2])\n",
    "\n",
    "print(Z1.shape)\n",
    "print(W2.shape)\n",
    "print(B2.shape)"
   ]
  },
  {
   "cell_type": "code",
   "execution_count": 12,
   "id": "39e163ed",
   "metadata": {},
   "outputs": [
    {
     "name": "stdout",
     "output_type": "stream",
     "text": [
      "[0.51615984 1.21402696]\n",
      "[0.62624937 0.7710107 ]\n"
     ]
    }
   ],
   "source": [
    "A2 = np.dot(Z1, W2) + B2\n",
    "Z2 = sigmoid(A2)\n",
    "print(A2)\n",
    "print(Z2)"
   ]
  },
  {
   "cell_type": "markdown",
   "id": "ff7ec62b",
   "metadata": {},
   "source": [
    "이제 마지막 단계인 출력층을 구현해 봅니다. 출력층의 구현도 그 동안의 구현과 똑같습니다. 딱 하나, 활성화 함수만 지금까지의 은닉층과 다릅니다.\n",
    "\n",
    "<p align=\"center\"><img src=\"3-20.png\" width=500></p>"
   ]
  },
  {
   "cell_type": "code",
   "execution_count": 13,
   "id": "82e1869f",
   "metadata": {},
   "outputs": [],
   "source": [
    "def identity_function(x):\n",
    "    return x"
   ]
  },
  {
   "cell_type": "code",
   "execution_count": 21,
   "id": "68854558",
   "metadata": {},
   "outputs": [
    {
     "name": "stdout",
     "output_type": "stream",
     "text": [
      "[0.62624937 0.7710107 ]\n",
      "[[1.  0.3]\n",
      " [0.2 0.4]]\n",
      "-----------\n",
      "[0.88045151 0.69627909]\n"
     ]
    }
   ],
   "source": [
    "W3 = np.array([[1.0, 0.3], [0.2, 0.4]])\n",
    "B3 = np.array([0.1, 0.2])\n",
    "\n",
    "print(Z2)\n",
    "print(W3)\n",
    "print('-----------')\n",
    "A3 = np.dot(Z2, W3) + B3\n",
    "print(A3)"
   ]
  },
  {
   "cell_type": "code",
   "execution_count": 23,
   "id": "874f1a9a",
   "metadata": {},
   "outputs": [
    {
     "data": {
      "text/plain": [
       "array([0.88045151, 0.69627909])"
      ]
     },
     "execution_count": 23,
     "metadata": {},
     "output_type": "execute_result"
    }
   ],
   "source": [
    "Y = identity_function(A3)\n",
    "Y"
   ]
  },
  {
   "cell_type": "markdown",
   "id": "9162a0a8",
   "metadata": {},
   "source": [
    "출력층의 활성화 함수는 풀고자 하는 문제의 성질에 맞게 정한다고 한다.\n",
    "\n",
    "* 회귀 = 항등함수\n",
    "* 2클래스 분류 = 시그모이드\n",
    "* 다중 분류 = 소프트맥스"
   ]
  },
  {
   "cell_type": "markdown",
   "id": "a60a6556",
   "metadata": {},
   "source": [
    "# 3.4.3 구현 정리\n",
    "\n",
    "* init_network: 가중치와 바이어스 값들을 할당 (초기화)\n",
    "* forward: 연산들이 진행 됨"
   ]
  },
  {
   "cell_type": "code",
   "execution_count": 29,
   "id": "9b7c3e06",
   "metadata": {},
   "outputs": [],
   "source": [
    "def init_network():\n",
    "    network = {}\n",
    "    network['W1'] = np.array([[0.1, 0.3, 0.5], [0.2, 0.4, 0.6]])\n",
    "    network['b1'] = np.array([0.1, 0.2, 0.3])\n",
    "    network['W2'] = np.array([[0.1, 0.4], [0.2, 0.5], [0.3, 0.6]])\n",
    "    network['b2'] = np.array([[0.1, 0.2]])\n",
    "    network['W3'] = np.array([[0.1, 0.3], [0.2, 0.4]])\n",
    "    network['b3'] = np.array([0.1, 0.2])\n",
    "    return network"
   ]
  },
  {
   "cell_type": "code",
   "execution_count": 27,
   "id": "c114652a",
   "metadata": {},
   "outputs": [],
   "source": [
    "def forward(network, x):\n",
    "    W1, W2, W3 = network['W1'], network['W2'], network['W3']\n",
    "    b1, b2, b3 = network['b1'], network['b2'], network['b3']\n",
    "    \n",
    "    a1 = np.dot(x, W1) + b1\n",
    "    z1 = sigmoid(a1)\n",
    "    a2 = np.dot(z1, W2) + b2\n",
    "    z2 = sigmoid(a2)\n",
    "    a3 = np.dot(z2, W3) + b3\n",
    "    y = identity_function(a3)\n",
    "    \n",
    "    return y"
   ]
  },
  {
   "cell_type": "code",
   "execution_count": 30,
   "id": "3159f888",
   "metadata": {},
   "outputs": [
    {
     "name": "stdout",
     "output_type": "stream",
     "text": [
      "[[0.31682708 0.69627909]]\n"
     ]
    }
   ],
   "source": [
    "network = init_network()\n",
    "x = np.array([1.0, 0.5])\n",
    "y = forward(network, x)\n",
    "print(y)"
   ]
  }
 ],
 "metadata": {
  "kernelspec": {
   "display_name": "tf2",
   "language": "python",
   "name": "tf2"
  },
  "language_info": {
   "codemirror_mode": {
    "name": "ipython",
    "version": 3
   },
   "file_extension": ".py",
   "mimetype": "text/x-python",
   "name": "python",
   "nbconvert_exporter": "python",
   "pygments_lexer": "ipython3",
   "version": "3.10.6"
  }
 },
 "nbformat": 4,
 "nbformat_minor": 5
}
