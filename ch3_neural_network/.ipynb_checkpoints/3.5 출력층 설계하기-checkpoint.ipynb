{
 "cells": [
  {
   "cell_type": "markdown",
   "id": "f6fa713f",
   "metadata": {},
   "source": [
    "# 3.5.1 항등함수와 소프트맥스 함수 구현하기\n",
    "\n",
    "* 회귀 = 항등함수\n",
    "* 분류 = 소프트맥스 (다중 분류일 경우)\n",
    "\n",
    "<p align=\"center\"><img src=\"3-21.png\" width=500></p>\n",
    "\n",
    "왼쪽 그림은 항등 함수를 표현한 것이고, 오른쪽 그림은 softmax의 표현식이다. 해당 표현식에서도 알 수 있듯이, 출력층의 모든 뉴런은 입력 신호에서 영향을 받는다. 아래 그림은 소프트맥스를 표현한 것이다.\n",
    "\n",
    "<p align=\"center\"><img src=\"3-22.png\" width=200></p>\n",
    "\n",
    "아래 코드는 소프트맥스 함수를 구현해가는 과정이다. 이 역시 lib 디렉토리에 저장하여, 언제든지 사용할 수 있게 해두자."
   ]
  },
  {
   "cell_type": "code",
   "execution_count": 3,
   "id": "ce19ac04",
   "metadata": {},
   "outputs": [
    {
     "data": {
      "text/plain": [
       "array([ 1.34985881, 18.17414537, 54.59815003])"
      ]
     },
     "execution_count": 3,
     "metadata": {},
     "output_type": "execute_result"
    }
   ],
   "source": [
    "import numpy as np\n",
    "\n",
    "a = np.array([0.3, 2.9, 4.0])\n",
    "\n",
    "exp_a = np.exp(a)\n",
    "exp_a"
   ]
  },
  {
   "cell_type": "code",
   "execution_count": 4,
   "id": "7ea95089",
   "metadata": {},
   "outputs": [
    {
     "data": {
      "text/plain": [
       "74.1221542101633"
      ]
     },
     "execution_count": 4,
     "metadata": {},
     "output_type": "execute_result"
    }
   ],
   "source": [
    "sum_exp_a = np.sum(exp_a)\n",
    "sum_exp_a"
   ]
  },
  {
   "cell_type": "code",
   "execution_count": 5,
   "id": "7ee65bd7",
   "metadata": {},
   "outputs": [
    {
     "data": {
      "text/plain": [
       "array([0.01821127, 0.24519181, 0.73659691])"
      ]
     },
     "execution_count": 5,
     "metadata": {},
     "output_type": "execute_result"
    }
   ],
   "source": [
    "y = exp_a / sum_exp_a\n",
    "y"
   ]
  },
  {
   "cell_type": "code",
   "execution_count": 6,
   "id": "de9859e5",
   "metadata": {},
   "outputs": [],
   "source": [
    "def softmax(a):\n",
    "    exp_a = np.exp(a)\n",
    "    sum_exp_a = np.sum(exp_a)\n",
    "    y = exp_a / sum_exp_a\n",
    "    return y"
   ]
  },
  {
   "cell_type": "markdown",
   "id": "5afab5df",
   "metadata": {},
   "source": [
    "# 3.5.2 소프트맥스 함수 구현 시 주의점\n",
    "\n",
    "소프트맥스 함수는 지수 함수를 사용하는데, 지수 함수는 쉽게 아주 큰 값을 내뱉는다. 그래서 컴퓨터에서 오버플로 문제가 발생하게 된다. 이제 소프트맥스 함수식을 약간 개조하여, 오버플로 문제를 방지해볼 것이다.\n",
    "\n",
    "<p align=\"center\"><img src=\"3-22-2.png\" width=400></p>\n",
    "\n",
    "분모와 분자에 C라는 것을 곱해도 결과는 동일하다. 그리고 이를 지수 안으로 옮기는데, 그래서 log값의 더하기 형태로 C가 변하게 된다. 마지막으로 이 로그를 C'로 변환해주면 된다. 여기서 C'에 어떤 값을 대입해도 상관은 없지만, 오버플로를 막을 목적으로 입력값 중 최대값을 이용하는것이 일반적이라고 한다."
   ]
  },
  {
   "cell_type": "code",
   "execution_count": 11,
   "id": "f17df717",
   "metadata": {},
   "outputs": [
    {
     "name": "stderr",
     "output_type": "stream",
     "text": [
      "C:\\Users\\white\\AppData\\Local\\Temp\\ipykernel_7592\\4185764715.py:2: RuntimeWarning: overflow encountered in exp\n",
      "  exp_a = np.exp(a)\n",
      "C:\\Users\\white\\AppData\\Local\\Temp\\ipykernel_7592\\4185764715.py:4: RuntimeWarning: invalid value encountered in divide\n",
      "  y = exp_a / sum_exp_a\n"
     ]
    },
    {
     "data": {
      "text/plain": [
       "array([nan, nan, nan])"
      ]
     },
     "execution_count": 11,
     "metadata": {},
     "output_type": "execute_result"
    }
   ],
   "source": [
    "a = np.array([1010, 1000, 990])\n",
    "y = softmax(a)\n",
    "y"
   ]
  },
  {
   "cell_type": "code",
   "execution_count": 12,
   "id": "5d81ee03",
   "metadata": {},
   "outputs": [
    {
     "data": {
      "text/plain": [
       "array([  0, -10, -20])"
      ]
     },
     "execution_count": 12,
     "metadata": {},
     "output_type": "execute_result"
    }
   ],
   "source": [
    "c = np.max(a)\n",
    "a-c"
   ]
  },
  {
   "cell_type": "code",
   "execution_count": 13,
   "id": "1a311b0c",
   "metadata": {},
   "outputs": [
    {
     "data": {
      "text/plain": [
       "array([9.99954600e-01, 4.53978686e-05, 2.06106005e-09])"
      ]
     },
     "execution_count": 13,
     "metadata": {},
     "output_type": "execute_result"
    }
   ],
   "source": [
    "np.exp(a-c) / np.sum(np.exp(a-c))"
   ]
  },
  {
   "cell_type": "code",
   "execution_count": 15,
   "id": "89d97df4",
   "metadata": {},
   "outputs": [],
   "source": [
    "def softmax(a):\n",
    "    c = np.max(a)\n",
    "    \n",
    "    exp_a = np.exp(a-c)\n",
    "    sum_exp_a = np.sum(exp_a)\n",
    "    y = exp_a / sum_exp_a\n",
    "    return y"
   ]
  },
  {
   "cell_type": "markdown",
   "id": "d5e338f1",
   "metadata": {},
   "source": [
    "# 3.5.3 소프트맥스 함수의 특징"
   ]
  },
  {
   "cell_type": "code",
   "execution_count": 16,
   "id": "d149c598",
   "metadata": {},
   "outputs": [
    {
     "data": {
      "text/plain": [
       "array([0.01821127, 0.24519181, 0.73659691])"
      ]
     },
     "execution_count": 16,
     "metadata": {},
     "output_type": "execute_result"
    }
   ],
   "source": [
    "a = np.array([0.3, 2.9, 4.0])\n",
    "y = softmax(a)\n",
    "y"
   ]
  },
  {
   "cell_type": "code",
   "execution_count": 17,
   "id": "5e3601f8",
   "metadata": {},
   "outputs": [
    {
     "data": {
      "text/plain": [
       "1.0"
      ]
     },
     "execution_count": 17,
     "metadata": {},
     "output_type": "execute_result"
    }
   ],
   "source": [
    "np.sum(y)"
   ]
  },
  {
   "cell_type": "markdown",
   "id": "fa075566",
   "metadata": {},
   "source": [
    "* 소프트맥스 함수의 출력은 0에서 1 사이이다.\n",
    "* 출력값들을 모두 더하면 1이 된다.\n",
    "* 이러한 성질 덕분에, 함수의 출력을 확률로 해석할 수 있다. argmax와 함께 많이 쓴다."
   ]
  },
  {
   "cell_type": "code",
   "execution_count": 20,
   "id": "4046b602",
   "metadata": {},
   "outputs": [
    {
     "name": "stdout",
     "output_type": "stream",
     "text": [
      "2\n"
     ]
    },
    {
     "data": {
      "text/plain": [
       "'rabbit'"
      ]
     },
     "execution_count": 20,
     "metadata": {},
     "output_type": "execute_result"
    }
   ],
   "source": [
    "labels = ['dog', 'cat', 'rabbit']\n",
    "i = np.argmax(y)\n",
    "print(i)\n",
    "labels[i]"
   ]
  },
  {
   "cell_type": "markdown",
   "id": "146df220",
   "metadata": {},
   "source": [
    "소프트맥스를 적용해도, 각 원소의 대소관계는 변하지 않는다고 한다. 그래서 학습할 때는 소프트맥스가 필요하나, 추론 단계에서 소프트맥스 함수는 생략해도 결과는 동일하다고 한다. (처음 알았음)"
   ]
  },
  {
   "cell_type": "markdown",
   "id": "0a3e5cfc",
   "metadata": {},
   "source": [
    "# 3.5.4 출력층의 뉴런 수 정하기\n",
    "\n",
    "출력층의 뉴련 수는 분류하고자 하는 클래스의 수로 정하면 된다.\n",
    "\n",
    "<p align=\"center\"><img src=\"3-23.png\" width=600></p>"
   ]
  },
  {
   "cell_type": "markdown",
   "id": "18f23a4e",
   "metadata": {},
   "source": [
    "MNIST는 필기체 글씨 이미지를 학습하는 예제인데, 0부터 9까지의 숫자들을 학습한다. 그래서 출력층의 뉴런 수는 10개가 된다."
   ]
  }
 ],
 "metadata": {
  "kernelspec": {
   "display_name": "tf2",
   "language": "python",
   "name": "tf2"
  },
  "language_info": {
   "codemirror_mode": {
    "name": "ipython",
    "version": 3
   },
   "file_extension": ".py",
   "mimetype": "text/x-python",
   "name": "python",
   "nbconvert_exporter": "python",
   "pygments_lexer": "ipython3",
   "version": "3.10.6"
  }
 },
 "nbformat": 4,
 "nbformat_minor": 5
}
