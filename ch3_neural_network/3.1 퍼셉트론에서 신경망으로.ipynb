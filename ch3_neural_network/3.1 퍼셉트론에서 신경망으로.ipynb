{
 "cells": [
  {
   "attachments": {},
   "cell_type": "markdown",
   "id": "99b825d0",
   "metadata": {},
   "source": [
    "# 3.1.1 신경망의 예\n",
    "\n",
    "신경망을 그림으로 나타내면 아래처럼 표현할 수 있다. 여기에서 가장 왼쪽 줄을 입력층, 맨 오른쪽 줄을 출력층, 중간에 있는 것을 은닉층이라고 한다.\n",
    "\n",
    "<p align=\"center\"><img src=\"imgs/3-1.png\" width=500></p>\n",
    "\n",
    "# 3.1.2 퍼셉트론 복습\n",
    "\n",
    "아래 식에서 b는 편향을 나타내는 것으로, 뉴런이 얼마나 쉽게 활성화 되느냐를 제어한다. 한 편 w는 각 신호의 가중치를 나타내는 매개 변수로, 각 신호의 영향력을 제어한다. 가중치 변수의 개수는 각 뉴런과 노드를 이어주는 선들의 개수라고 생각하면 편하다. (이전 스터디에서 다뤘던 내용) 편향을 명시한다면 조금 다른 그림이 되는데, 간단히 생각해서 그냥 입력 뉴런이 하나 더 생긴다고 생각하면 편하다. 여기 책에서는 이해를 쉽게 하기 위해서, 그런 식으로 표현한 것 같은데 다른 곳에서는 이렇게 그리지는 않는다.\n",
    "\n",
    "<p align=\"center\"><img src=\"imgs/3-2.png\" width=700></p>"
   ]
  },
  {
   "attachments": {},
   "cell_type": "markdown",
   "id": "ddff002c",
   "metadata": {},
   "source": [
    "이제 위의 식을 더 간결한 형태로 표현해보자. 조건 분기를 함수로 만들 수 있다. 함수의 이름은 h로 하고, 0을 넘으면 1을 출력 / 0을 넘지 않으면 0을 출력하도록 구현한다.\n",
    "\n",
    "<p align=\"center\"><img src=\"imgs/3-3.png\" width=400></p>\n",
    "\n",
    "# 3.1.3 활성화 함수의 등장\n",
    "\n",
    "조금 전 h(x)라는 함수가 등장했는데, 이처럼 입력 신호의 총합을 출력 신호로 변환하는 함수를 일반적으로 활성화 함수라고 한다. 활성화라는 이름이 말해주듯 활성화 함수는 입력 신호의 총합이 활성화를 일으키는지 정하는 역할을 한다.\n",
    "\n",
    "* 뉴련과 노드는 같은 의미이다.\n",
    "* 뉴런에서 일어나는 일은 1개의 퍼셉트론에서 일어나는 일과 같다.\n",
    "\n",
    "<p align=\"center\"><img src=\"imgs/3-4.png\" width=400></p>\n",
    "\n",
    "활성화 함수에 관해서는 다음 장에서 자세히 다루어 보도록 하자."
   ]
  }
 ],
 "metadata": {
  "kernelspec": {
   "display_name": "tf2",
   "language": "python",
   "name": "tf2"
  },
  "language_info": {
   "codemirror_mode": {
    "name": "ipython",
    "version": 3
   },
   "file_extension": ".py",
   "mimetype": "text/x-python",
   "name": "python",
   "nbconvert_exporter": "python",
   "pygments_lexer": "ipython3",
   "version": "3.10.6 | packaged by conda-forge | (main, Oct  7 2022, 20:14:50) [MSC v.1916 64 bit (AMD64)]"
  }
 },
 "nbformat": 4,
 "nbformat_minor": 5
}
