{
 "cells": [
  {
   "cell_type": "markdown",
   "id": "f3a4f78b",
   "metadata": {},
   "source": [
    "학습과정은 생략하고, 추론 과정만 구현해보도록 한다. 데이터셋은 유명한 MNIST 데이터셋이다.\n",
    "\n",
    "# 3.6.1 MNIST 데이터셋\n",
    "\n",
    "* 기계학습에서 매우 유명한 데이터셋\n",
    "* 0 ~ 9의 숫자 이미지들로 구성\n",
    "* shape: 28 x 28 x 1\n",
    "* train 6만장, test 1만장\n",
    "\n",
    "책에서는 깃허브에서 가져오라고 하는데, 그러지 말고 그냥 keras에 내장되어 있는 함수를 이용해본다. 왜냐면 편하기 때문이다."
   ]
  },
  {
   "cell_type": "code",
   "execution_count": 17,
   "id": "b85c5ce9",
   "metadata": {},
   "outputs": [],
   "source": [
    "import keras.datasets.mnist as mnist\n",
    "\n",
    "dataset = mnist.load_data()"
   ]
  },
  {
   "cell_type": "code",
   "execution_count": 27,
   "id": "ea808685",
   "metadata": {},
   "outputs": [
    {
     "data": {
      "text/plain": [
       "(10000,)"
      ]
     },
     "execution_count": 27,
     "metadata": {},
     "output_type": "execute_result"
    }
   ],
   "source": [
    "len(dataset)\n",
    "len(dataset[0])\n",
    "len(dataset[0][0]) # train_x\n",
    "len(dataset[0][1]) # train_y\n",
    "len(dataset[1][0])\n",
    "dataset[1][1].shape"
   ]
  },
  {
   "cell_type": "markdown",
   "id": "732a0a4d",
   "metadata": {},
   "source": [
    "데이터셋을 살펴보는 Tip\n",
    "\n",
    "* len함수를 이용하여 몇 개로 나눠지는지 확인하기\n",
    "* ? 기호를 이용하여, 변수에 어떻게 할당할지 구상해보기\n",
    "* shape를 이용하여 모양 살펴보기"
   ]
  },
  {
   "cell_type": "code",
   "execution_count": 4,
   "id": "d83db318",
   "metadata": {
    "scrolled": true
   },
   "outputs": [],
   "source": [
    "# len(dataset)\n",
    "# len(dataset[0])\n",
    "# ?mnist.load_data"
   ]
  },
  {
   "cell_type": "code",
   "execution_count": 40,
   "id": "0d5cf05f",
   "metadata": {},
   "outputs": [],
   "source": [
    "(train_x, train_y), (test_x, test_y) = mnist.load_data()"
   ]
  },
  {
   "cell_type": "code",
   "execution_count": 37,
   "id": "44ec9e73",
   "metadata": {},
   "outputs": [
    {
     "name": "stdout",
     "output_type": "stream",
     "text": [
      "(60000, 28, 28)\n",
      "(60000,)\n",
      "(10000, 28, 28)\n",
      "(10000,)\n"
     ]
    }
   ],
   "source": [
    "print(train_x.shape)\n",
    "print(train_y.shape)\n",
    "print(test_x.shape)\n",
    "print(test_y.shape)"
   ]
  },
  {
   "cell_type": "markdown",
   "id": "d2583aae",
   "metadata": {},
   "source": [
    "load_data의 다양한 파라미터값 직접 구현해보기\n",
    "\n",
    "* 데이터값의 범위 확인하기 -> np.max vs max\n",
    "* 255까지 데이터가 있으면, 정규화 해주기."
   ]
  },
  {
   "cell_type": "code",
   "execution_count": 32,
   "id": "2ade7da2",
   "metadata": {},
   "outputs": [
    {
     "data": {
      "text/plain": [
       "0"
      ]
     },
     "execution_count": 32,
     "metadata": {},
     "output_type": "execute_result"
    }
   ],
   "source": [
    "import numpy as np\n",
    "\n",
    "np.max(train_x) # min도 해보기\n",
    "# max(train_x)"
   ]
  },
  {
   "cell_type": "code",
   "execution_count": 41,
   "id": "5e497fb2",
   "metadata": {},
   "outputs": [],
   "source": [
    "train_x = train_x / 255.\n",
    "train_x = train_x.astype(np.float32)\n",
    "# print(train_x.dtype)"
   ]
  },
  {
   "cell_type": "code",
   "execution_count": 42,
   "id": "d1a3bad6",
   "metadata": {},
   "outputs": [
    {
     "data": {
      "text/plain": [
       "dtype('float32')"
      ]
     },
     "execution_count": 42,
     "metadata": {},
     "output_type": "execute_result"
    }
   ],
   "source": [
    "train_x.dtype"
   ]
  },
  {
   "cell_type": "markdown",
   "id": "aa45a451",
   "metadata": {},
   "source": [
    "flatten 살펴보기"
   ]
  },
  {
   "cell_type": "code",
   "execution_count": 43,
   "id": "268b202f",
   "metadata": {
    "scrolled": true
   },
   "outputs": [
    {
     "data": {
      "text/plain": [
       "(47040000,)"
      ]
     },
     "execution_count": 43,
     "metadata": {},
     "output_type": "execute_result"
    }
   ],
   "source": [
    "f_train_x = train_x.flatten()\n",
    "f_train_x.shape"
   ]
  },
  {
   "cell_type": "code",
   "execution_count": 44,
   "id": "64054c37",
   "metadata": {},
   "outputs": [
    {
     "data": {
      "text/plain": [
       "47040000"
      ]
     },
     "execution_count": 44,
     "metadata": {},
     "output_type": "execute_result"
    }
   ],
   "source": [
    "28 * 28 * 60000"
   ]
  },
  {
   "cell_type": "markdown",
   "id": "544ad02d",
   "metadata": {},
   "source": [
    "one-hot 인코딩 살펴보기\n",
    "\n",
    "* 라벨값의 인덱스만 1이고, 나머지는 0인 것을 원핫 인코딩이라고 부른다.\n",
    "* 직접 구현해 본다면?"
   ]
  },
  {
   "cell_type": "code",
   "execution_count": 46,
   "id": "38f82700",
   "metadata": {
    "scrolled": true
   },
   "outputs": [
    {
     "data": {
      "text/plain": [
       "array([5, 0, 4, ..., 5, 6, 8], dtype=uint8)"
      ]
     },
     "execution_count": 46,
     "metadata": {},
     "output_type": "execute_result"
    }
   ],
   "source": [
    "train_y"
   ]
  },
  {
   "cell_type": "code",
   "execution_count": 49,
   "id": "412b02ac",
   "metadata": {},
   "outputs": [],
   "source": [
    "def onehot(num, maxnum):\n",
    "    return np.array([1 if i == num else 0 for i in range(maxnum)])"
   ]
  },
  {
   "cell_type": "code",
   "execution_count": 50,
   "id": "20f2013d",
   "metadata": {},
   "outputs": [
    {
     "data": {
      "text/plain": [
       "array([0, 0, 0, 0, 0, 1, 0, 0, 0, 0])"
      ]
     },
     "execution_count": 50,
     "metadata": {},
     "output_type": "execute_result"
    }
   ],
   "source": [
    "onehot(5, 10)"
   ]
  },
  {
   "cell_type": "code",
   "execution_count": 51,
   "id": "67b48ddb",
   "metadata": {},
   "outputs": [],
   "source": [
    "import sys, os\n",
    "sys.path.append(os.pardir) # 한폴더 위의 경로를 환경변수에 추가\n",
    "import numpy as np\n",
    "from keras.datasets.mnist import load_data\n",
    "from PIL import Image\n",
    "\n",
    "def img_show(img):\n",
    "    pil_image = Image.fromarray(np.int8(img))\n",
    "#     pil_image = Image.fromarray(img)\n",
    "    pil_image.show()"
   ]
  },
  {
   "cell_type": "code",
   "execution_count": 52,
   "id": "cefe651b",
   "metadata": {},
   "outputs": [
    {
     "name": "stdout",
     "output_type": "stream",
     "text": [
      "5\n"
     ]
    }
   ],
   "source": [
    "(train_x, train_y), (test_x, test_y) = load_data()\n",
    "img = train_x[0]\n",
    "label = train_y[0]\n",
    "print(label)"
   ]
  },
  {
   "cell_type": "code",
   "execution_count": 53,
   "id": "6f46f600",
   "metadata": {},
   "outputs": [
    {
     "name": "stdout",
     "output_type": "stream",
     "text": [
      "(28, 28)\n"
     ]
    }
   ],
   "source": [
    "print(img.shape)\n",
    "img_show(img)"
   ]
  },
  {
   "cell_type": "markdown",
   "id": "647965ff",
   "metadata": {},
   "source": [
    "책에 나온 방법모다는 matplotlib 라이브러리를 사용하는게 깔끔하다. 책에서는 flatten을 쓰느라 다시 reshape를 해주었는데, 우리는 그냥 읽어들였으므로 별도의 reshape를 하지 않는다."
   ]
  },
  {
   "cell_type": "code",
   "execution_count": 56,
   "id": "b2e7e71c",
   "metadata": {
    "scrolled": false
   },
   "outputs": [
    {
     "data": {
      "image/png": "[encoded data removed]",
      "text/plain": [
       "<Figure size 640x480 with 1 Axes>"
      ]
     },
     "metadata": {},
     "output_type": "display_data"
    }
   ],
   "source": [
    "import matplotlib.pyplot as plt\n",
    "\n",
    "plt.imshow(img)\n",
    "plt.show()"
   ]
  },
  {
   "cell_type": "markdown",
   "id": "5ae00b0d",
   "metadata": {},
   "source": [
    "# 3.6.2 신경망의 추론 원리\n",
    "\n",
    "이제 mnist 데이터셋으로 신경망을 구현해보자.\n",
    "\n",
    "* 입력층: 784 뉴런 (28 x 28)\n",
    "* 출력층: 10 뉴런\n",
    "\n",
    "가중치는 미리 저장된 것을 불러다 읽는다. 이건 어쩔 수 없이 깃허브에서 받아와야 할 듯 하다."
   ]
  },
  {
   "cell_type": "code",
   "execution_count": 14,
   "id": "8ae808cb",
   "metadata": {},
   "outputs": [],
   "source": [
    "import pickle\n",
    "from lib.activation import sigmoid, softmax, softmax2\n",
    "\n",
    "def get_data():\n",
    "    (train_x, train_y), (test_x, test_y) = load_data()\n",
    "    train_x = train_x.reshape(-1, 784) / 255.\n",
    "    test_x = test_x.reshape(-1, 784) / 255.\n",
    "\n",
    "    # train_x = train_x.flatten() / 255.\n",
    "    # test_x = test_x.flatten() / 255.\n",
    "    return test_x, test_y\n",
    "\n",
    "def init_network():\n",
    "    with open(\"lib/sample_weight.pkl\", 'rb') as f:\n",
    "        network = pickle.load(f)\n",
    "    return network\n",
    "\n",
    "def predict(network, x):\n",
    "    W1, W2, W3 = network['W1'], network['W2'], network['W3']\n",
    "    b1, b2, b3 = network['b1'], network['b2'], network['b3']\n",
    "\n",
    "    # print('input shape:', b1.shape)\n",
    "\n",
    "    a1 = np.dot(x, W1) + b1\n",
    "    z1 = sigmoid(a1)\n",
    "    a2 = np.dot(z1, W2) + b2\n",
    "    z2 = sigmoid(a2)\n",
    "    a3 = np.dot(z2, W3) + b3\n",
    "    y = softmax(a3)\n",
    "\n",
    "    return y"
   ]
  },
  {
   "cell_type": "code",
   "execution_count": 61,
   "id": "c741e7fe",
   "metadata": {},
   "outputs": [],
   "source": [
    "x, lb = get_data()\n",
    "network = init_network()\n",
    "accuracy_cnt = 0\n",
    "\n",
    "for i in range(len(x)):\n",
    "    y = predict(network, x[i])\n",
    "    p = np.argmax(y)\n",
    "    if p == lb[i]:\n",
    "        accuracy_cnt += 1"
   ]
  },
  {
   "cell_type": "code",
   "execution_count": 64,
   "id": "9d5a44f3",
   "metadata": {},
   "outputs": [
    {
     "data": {
      "text/plain": [
       "93.52000000000001"
      ]
     },
     "execution_count": 64,
     "metadata": {},
     "output_type": "execute_result"
    }
   ],
   "source": [
    "accuracy_cnt / 10000 * 100"
   ]
  },
  {
   "attachments": {},
   "cell_type": "markdown",
   "id": "bc700574",
   "metadata": {},
   "source": [
    "# 3.6.3 배치 처리\n",
    "\n",
    "<p align=\"center\"><img src=\"imgs/3-26.png\" width=500></p>\n",
    "\n",
    "가중치 매개변수의 형상을 살펴보고, 조금 전의 구현을 다시 해본다. 행렬에서 앞/뒤의 차원 수가 일치해야 행렬의 곱셈이 성립된다는 사실을 알고 있을 것이다. 결국 행렬의 곱셈이 많아지면, 젤 앞의 차원과 맨 뒤의 차원만 남게 되는 형태로 바뀐다. 위의 그림은 이미지가 1장일 때와 100장일 때의 처리를 보여준다."
   ]
  },
  {
   "cell_type": "code",
   "execution_count": 65,
   "id": "14b92034",
   "metadata": {},
   "outputs": [],
   "source": [
    "x, _ = get_data()\n",
    "network = init_network()\n",
    "W1, W2, W3 = network['W1'], network['W2'], network['W3']"
   ]
  },
  {
   "cell_type": "code",
   "execution_count": 67,
   "id": "95f148cf",
   "metadata": {},
   "outputs": [
    {
     "name": "stdout",
     "output_type": "stream",
     "text": [
      "(10000, 784)\n",
      "(784,) (784, 50) (50, 100) (100, 10)\n"
     ]
    }
   ],
   "source": [
    "print(x.shape)\n",
    "print(x[0].shape, W1.shape, W2.shape, W3.shape)"
   ]
  },
  {
   "attachments": {},
   "cell_type": "markdown",
   "id": "b88d6598",
   "metadata": {},
   "source": [
    "이렇게 이미지를 100장이든 몇 장이든 다발로 묶어 처리하는 방식을 배치(batch)라고 한다. 보통 배치는 2의 제곱 수를 많이 사용한다. 책에서는 100이라고 했지만, 실제로 학습에서는 2, 4, 8, 16 등을 더 많이 사용하게 될 것이다. 이제 배치 처리를 구현해보도록 하자."
   ]
  },
  {
   "cell_type": "code",
   "execution_count": 73,
   "id": "23579ef6",
   "metadata": {},
   "outputs": [
    {
     "name": "stdout",
     "output_type": "stream",
     "text": [
      "accuracy: 0.9352\n"
     ]
    }
   ],
   "source": [
    "x, lb = get_data()\n",
    "network = init_network()\n",
    "\n",
    "batch_size = 100\n",
    "accuracy_cnt = 0\n",
    "\n",
    "for i in range(0, len(x), batch_size):\n",
    "    x_batch = x[i:i+batch_size]\n",
    "    y_batch = predict(network, x_batch)\n",
    "    p = np.argmax(y_batch, axis=1)\n",
    "    accuracy_cnt += np.sum(p == lb[i:i+batch_size])\n",
    "\n",
    "print('accuracy:', accuracy_cnt/len(x))"
   ]
  },
  {
   "attachments": {},
   "cell_type": "markdown",
   "id": "ef572409",
   "metadata": {},
   "source": [
    "range 부분을 유념해서 보자. 0부터 len(x)까지 반복하는데, 단위를 배치사이즈만큼 반복한다는 뜻이다. 그러니 첫 번재 단위는 0부터 99까지가 될 것이고, 두 번째 단위는 100부터 199까지가 되는 식이다. 아래 코드를 보면 이해가 된다."
   ]
  },
  {
   "cell_type": "code",
   "execution_count": 75,
   "id": "aab35350",
   "metadata": {},
   "outputs": [
    {
     "name": "stdout",
     "output_type": "stream",
     "text": [
      "[0, 1, 2, 3, 4, 5, 6, 7, 8, 9]\n",
      "[0, 3, 6, 9]\n"
     ]
    }
   ],
   "source": [
    "print(list(range(0, 10)))\n",
    "print(list(range(0, 10, 3)))"
   ]
  },
  {
   "attachments": {},
   "cell_type": "markdown",
   "id": "88e3841a",
   "metadata": {},
   "source": [
    "다음으로는 argmax에 대해 살펴본다. argmax는 최댓값의 인덱스를 가져온다. argmax에 axis라는 파라미터는 어떤 축을 기준으로 계산할 것인지를 결정한다. 1이라는 것은 인덱스가 1인 축을 말하는데, 차원으로 치면 2번째 차원을 기준으로 최대 인덱스를 뽑겠다는 의미이다. 첫 번째 차원을 기준으로 하고 싶다면, axis = 0 으로 설정해주면 된다."
   ]
  },
  {
   "cell_type": "code",
   "execution_count": 82,
   "id": "19f8af64",
   "metadata": {},
   "outputs": [
    {
     "name": "stdout",
     "output_type": "stream",
     "text": [
      "(2, 3)\n",
      "[1 2]\n"
     ]
    }
   ],
   "source": [
    "x = np.array([[0.1, 0.8, 0.1], \n",
    "              [0.3, 0.1, 0.6]])\n",
    "print(x.shape)\n",
    "y = np.argmax(x, axis = 1) # axis를 0으로도 바꿔보자\n",
    "print(y)"
   ]
  },
  {
   "attachments": {},
   "cell_type": "markdown",
   "id": "e5c9fd02",
   "metadata": {},
   "source": [
    "마지막으로 np.sum에 대해 살펴보자. 이는 배열에서 True인 것들을 세준다. 이는 파이썬에서 bool 값에 int가 할당된 원리를 이용한 것이다. 파이썬에서 True는 1이고 False는 0이다. 그러니 sum을 해주면, 자연스럽게 1인 요소들의 합이 구해지는 것이다."
   ]
  },
  {
   "cell_type": "code",
   "execution_count": 85,
   "id": "0cb40c2c",
   "metadata": {},
   "outputs": [
    {
     "name": "stdout",
     "output_type": "stream",
     "text": [
      "1 0\n"
     ]
    }
   ],
   "source": [
    "print(int(True), int(False))"
   ]
  },
  {
   "cell_type": "code",
   "execution_count": 87,
   "id": "53f7401b",
   "metadata": {},
   "outputs": [
    {
     "name": "stdout",
     "output_type": "stream",
     "text": [
      "[ True  True False  True]\n",
      "3\n"
     ]
    }
   ],
   "source": [
    "y = np.array([1, 2, 1, 0])\n",
    "t = np.array([1, 2, 0, 0])\n",
    "print(y==t)\n",
    "print(np.sum(y==t))"
   ]
  }
 ],
 "metadata": {
  "kernelspec": {
   "display_name": "tf2",
   "language": "python",
   "name": "python3"
  },
  "language_info": {
   "codemirror_mode": {
    "name": "ipython",
    "version": 3
   },
   "file_extension": ".py",
   "mimetype": "text/x-python",
   "name": "python",
   "nbconvert_exporter": "python",
   "pygments_lexer": "ipython3",
   "version": "3.10.6"
  },
  "vscode": {
   "interpreter": {
    "hash": "429d3c4ab745cb5040d1082d56ce2bddcd2ae65139d012657fade8b90ce91472"
   }
  }
 },
 "nbformat": 4,
 "nbformat_minor": 5
}
