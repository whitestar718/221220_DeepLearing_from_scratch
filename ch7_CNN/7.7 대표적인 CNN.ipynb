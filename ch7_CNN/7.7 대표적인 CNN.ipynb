{
 "cells": [
  {
   "attachments": {},
   "cell_type": "markdown",
   "id": "6b6b753f",
   "metadata": {},
   "source": [
    "### 7.7.1 LeNet\n",
    "\n",
    "* 1998년에 만들어짐 (거의 20년 전)\n",
    "* 손글씨 인식을 위한 네트워크\n",
    "* 활성화 함수로 sigmoid를 사용\n",
    "\n",
    "<p align=\"center\"><img src=\"imgs/7-27.png\" width=800></p>"
   ]
  },
  {
   "attachments": {},
   "cell_type": "markdown",
   "id": "d0759342",
   "metadata": {},
   "source": [
    "Subsampling\n",
    "\n",
    "* Subsampling 이라고도 하고 pooling이라고도 한다.\n",
    "* LeNet에서는 average pooling이 쓰였다. <br>\n",
    "https://stats.stackexchange.com/questions/506118/lenet-5-subsample-layer-in-tensorflow\n",
    "\n",
    "* activation map: 필터를 말하는 것이 아님. convolution을 거쳐서 나온 output을 말한다. <br>\n",
    "  필터의 개수에 따라 달라지고, feature map이라고도 불린다.\n",
    "* train data에 overfitting 되는 것을 방지.\n",
    "\n",
    "### 7.7.2 AlexNet\n",
    "<p align=\"center\"><img src=\"imgs/7-28.png\" width=800></p>\n",
    "\n"
   ]
  },
  {
   "attachments": {},
   "cell_type": "markdown",
   "id": "5b400772",
   "metadata": {},
   "source": [
    "* 활성화 함수로 Relu를 이용 -> 2012년에 Alexnet이 relu를 사용하여 SOTA (State of the art) 달성\n",
    "* LRN이라는 국소적 정규화를 실시 -> 요새는 잘 안쓰는 거라서 이전 스터디에서도 pass...\n",
    "* 드롭아웃을 사용"
   ]
  }
 ],
 "metadata": {
  "kernelspec": {
   "display_name": "tf2",
   "language": "python",
   "name": "python3"
  },
  "language_info": {
   "codemirror_mode": {
    "name": "ipython",
    "version": 3
   },
   "file_extension": ".py",
   "mimetype": "text/x-python",
   "name": "python",
   "nbconvert_exporter": "python",
   "pygments_lexer": "ipython3",
   "version": "3.8.15"
  },
  "vscode": {
   "interpreter": {
    "hash": "e8c0ffc6b8f05b006c73f2cd680928154ddfcde68c31c80ce450bbea892f4c22"
   }
  }
 },
 "nbformat": 4,
 "nbformat_minor": 5
}
