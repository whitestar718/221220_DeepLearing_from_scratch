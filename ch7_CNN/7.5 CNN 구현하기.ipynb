{
 "cells": [
  {
   "attachments": {},
   "cell_type": "markdown",
   "id": "99b825d0",
   "metadata": {},
   "source": [
    "<p align=\"center\"><img src=\"imgs/7-23.png\" width=600></p>\n",
    "\n",
    "위의 계층들을 순서대로 코드로 구현해보면 된다."
   ]
  },
  {
   "cell_type": "code",
   "execution_count": 31,
   "id": "81387d9f",
   "metadata": {},
   "outputs": [],
   "source": [
    "from common.util import im2col\n",
    "import numpy as np\n",
    "\n",
    "class Convolution:\n",
    "    def __init__(self, W, b, stride=1, pad=0):\n",
    "        self.W = W\n",
    "        self.b = b\n",
    "        self.stride = stride\n",
    "        self.pad = pad\n",
    "\n",
    "    def forward(self, x):\n",
    "        FN, C, FH, FW = self.W.shape # 필터개수, 채널, 필터높이, 필터너비\n",
    "        N, C, H, W = x.shape\n",
    "        out_h = int(1 + (H + 2*self.pad - FH)/self.stride)\n",
    "        out_w = int(1 + (W + 2*self.pad - FW)/self.stride)\n",
    "        print('out_h:', out_h)\n",
    "        print('out_w:', out_w)\n",
    "\n",
    "        col = im2col(x, FH, FW, self.stride, self.pad)\n",
    "        print('col shape:', col.shape)\n",
    "        col_W = self.W.reshape(FN, -1).T # 필터전개\n",
    "        print('col_W shape:', col_W.shape)\n",
    "        out = np.dot(col, col_W) + self.b\n",
    "\n",
    "        out = out.reshape(N, out_h, out_w, -1).transpose(0, 3, 1, 2)\n",
    "        return out"
   ]
  },
  {
   "attachments": {},
   "cell_type": "markdown",
   "id": "982b821d",
   "metadata": {},
   "source": [
    "convoluiton을 하나씩 뜯어보기 위해, 이미지를 아무거나 하나 넣어보자."
   ]
  },
  {
   "cell_type": "code",
   "execution_count": 32,
   "id": "2eedcea1",
   "metadata": {},
   "outputs": [
    {
     "name": "stdout",
     "output_type": "stream",
     "text": [
      "(300, 300, 3)\n"
     ]
    },
    {
     "data": {
      "image/png": "[encoded data removed]",
      "text/plain": [
       "<Figure size 640x480 with 1 Axes>"
      ]
     },
     "metadata": {},
     "output_type": "display_data"
    },
    {
     "name": "stdout",
     "output_type": "stream",
     "text": [
      "(1, 3, 300, 300)\n"
     ]
    }
   ],
   "source": [
    "import cv2\n",
    "import matplotlib.pyplot as plt\n",
    "x = cv2.imread('imgs/zero.png')\n",
    "x = cv2.resize(x, (300, 300))\n",
    "\n",
    "print(x.shape)\n",
    "plt.imshow(x)\n",
    "plt.show()\n",
    "\n",
    "x = x.transpose(2, 0, 1)\n",
    "x = np.expand_dims(x, axis=0) # 차원 수를 늘려줌 (convolution에 넣기 위해)\n",
    "print(x.shape)"
   ]
  },
  {
   "attachments": {},
   "cell_type": "markdown",
   "id": "bc763f10",
   "metadata": {},
   "source": [
    "* opencv에서 이미지를 읽어오면 (H, W, C) 순으로 들어가는데, 책에서는 (C, H, W) 순으로 설명한다.\n",
    "* 배치 처리를 하므로, 항상 shape의 맨 앞은 N (이미지 개수)\n",
    "* 왜 W + b 모양이 다른데 연산이 가능할까? -> 실제로는 bias가 broadcast 되기 때문"
   ]
  },
  {
   "cell_type": "code",
   "execution_count": 36,
   "id": "f262fbba",
   "metadata": {},
   "outputs": [
    {
     "name": "stdout",
     "output_type": "stream",
     "text": [
      "out_h: 291\n",
      "out_w: 291\n",
      "col shape: (84681, 300)\n",
      "col_W shape: (300, 1)\n",
      "84681\n",
      "out shape: (1, 3, 291, 291)\n"
     ]
    }
   ],
   "source": [
    "W = np.array([2]*300).reshape(1, 3, 10, 10) # N, C, FH, FW\n",
    "b = np.array([1]*3).reshape(3, 1, 1)\n",
    "\n",
    "conv = Convolution(W, b)\n",
    "out = conv.forward(x)\n",
    "print(1 * 291 * 291) # out_h x out_w\n",
    "print('out shape:', out.shape) # 곱셈이 왜 동작하는지 shape를 중점적으로 살펴볼 것"
   ]
  },
  {
   "attachments": {},
   "cell_type": "markdown",
   "id": "4a70f68d",
   "metadata": {},
   "source": [
    "im2col이 정확히 어떤 원리로 작동하는지는 모르지만.. 몇 가지 알게된 사실이 있다.\n",
    "\n",
    "* im2col의 목적은 행렬의 곱셈을 위한 것이다. (곱셈을 편하게 하려고 펼쳐주는 역할)\n",
    "* 각각의 원소들은 모두 input으로부터 오는 것이다. (별도의 곱셈, 다른 행렬 개입 안 함)\n",
    "* output shape를 살펴보면, 첫 번째 차원은 output_shape와 관련이 있고, <br> 두번째 차원은 weight의 차원과 관련이 있다. (여기서 weight는 kernel/filter와 동일 의미로 쓰임)\n",
    "\n",
    "정리: convolution의 forward를 거치게 되면, 이미지와 필터의 연산 결과가 나온다. (패딩까지 거친 것)"
   ]
  }
 ],
 "metadata": {
  "kernelspec": {
   "display_name": "tf2",
   "language": "python",
   "name": "python3"
  },
  "language_info": {
   "codemirror_mode": {
    "name": "ipython",
    "version": 3
   },
   "file_extension": ".py",
   "mimetype": "text/x-python",
   "name": "python",
   "nbconvert_exporter": "python",
   "pygments_lexer": "ipython3",
   "version": "3.8.15"
  },
  "vscode": {
   "interpreter": {
    "hash": "e8c0ffc6b8f05b006c73f2cd680928154ddfcde68c31c80ce450bbea892f4c22"
   }
  }
 },
 "nbformat": 4,
 "nbformat_minor": 5
}
