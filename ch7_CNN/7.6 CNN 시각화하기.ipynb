{
 "cells": [
  {
   "attachments": {},
   "cell_type": "markdown",
   "id": "6b6b753f",
   "metadata": {},
   "source": [
    "### 7.6.1 첫번째 층의 가중치 시각화하기"
   ]
  },
  {
   "cell_type": "code",
   "execution_count": 1,
   "id": "15d4fb37",
   "metadata": {},
   "outputs": [],
   "source": [
    "from common.optimizer import *\n",
    "from dataset.mnist import load_mnist\n",
    "\n",
    "class Trainer:\n",
    "    \"\"\"신경망 훈련을 대신 해주는 클래스\n",
    "    \"\"\"\n",
    "    def __init__(self, network, x_train, t_train, x_test, t_test,\n",
    "                 epochs=20, mini_batch_size=100,\n",
    "                 optimizer='SGD', optimizer_param={'lr':0.01}, \n",
    "                 evaluate_sample_num_per_epoch=None, verbose=True):\n",
    "        self.network = network\n",
    "        self.verbose = verbose\n",
    "        self.x_train = x_train\n",
    "        self.t_train = t_train\n",
    "        self.x_test = x_test\n",
    "        self.t_test = t_test\n",
    "        self.epochs = epochs\n",
    "        self.batch_size = mini_batch_size\n",
    "        self.evaluate_sample_num_per_epoch = evaluate_sample_num_per_epoch\n",
    "\n",
    "        # optimzer\n",
    "        optimizer_class_dict = {'sgd':SGD, 'momentum':Momentum, 'nesterov':Nesterov,\n",
    "                                'adagrad':AdaGrad, 'rmsprpo':RMSprop, 'adam':Adam}\n",
    "        self.optimizer = optimizer_class_dict[optimizer.lower()](**optimizer_param)\n",
    "        \n",
    "        self.train_size = x_train.shape[0]\n",
    "        self.iter_per_epoch = max(self.train_size / mini_batch_size, 1)\n",
    "        self.max_iter = int(epochs * self.iter_per_epoch)\n",
    "        self.current_iter = 0\n",
    "        self.current_epoch = 0\n",
    "        \n",
    "        self.train_loss_list = []\n",
    "        self.train_acc_list = []\n",
    "        self.test_acc_list = []\n",
    "\n",
    "    def train_step(self):\n",
    "        batch_mask = np.random.choice(self.train_size, self.batch_size)\n",
    "        x_batch = self.x_train[batch_mask]\n",
    "        t_batch = self.t_train[batch_mask]\n",
    "        \n",
    "        grads = self.network.gradient(x_batch, t_batch)\n",
    "        self.optimizer.update(self.network.params, grads)\n",
    "        \n",
    "        loss = self.network.loss(x_batch, t_batch)\n",
    "        self.train_loss_list.append(loss)\n",
    "        if self.verbose: print(\"train loss:\" + str(loss))\n",
    "        \n",
    "        if self.current_iter % self.iter_per_epoch == 0:\n",
    "            self.current_epoch += 1\n",
    "            \n",
    "            x_train_sample, t_train_sample = self.x_train, self.t_train\n",
    "            x_test_sample, t_test_sample = self.x_test, self.t_test\n",
    "            if not self.evaluate_sample_num_per_epoch is None:\n",
    "                t = self.evaluate_sample_num_per_epoch\n",
    "                x_train_sample, t_train_sample = self.x_train[:t], self.t_train[:t]\n",
    "                x_test_sample, t_test_sample = self.x_test[:t], self.t_test[:t]\n",
    "                \n",
    "            train_acc = self.network.accuracy(x_train_sample, t_train_sample)\n",
    "            test_acc = self.network.accuracy(x_test_sample, t_test_sample)\n",
    "            self.train_acc_list.append(train_acc)\n",
    "            self.test_acc_list.append(test_acc)\n",
    "\n",
    "            if self.verbose: print(\"=== epoch:\" + str(self.current_epoch) + \", train acc:\" + str(train_acc) + \", test acc:\" + str(test_acc) + \" ===\")\n",
    "        self.current_iter += 1\n",
    "\n",
    "    def train(self):\n",
    "        for i in range(self.max_iter):\n",
    "            self.train_step()\n",
    "\n",
    "        test_acc = self.network.accuracy(self.x_test, self.t_test)\n",
    "\n",
    "        # if self.verbose:\n",
    "        print(\"=============== Final Test Accuracy ===============\")\n",
    "        print(\"test acc:\" + str(test_acc))"
   ]
  },
  {
   "cell_type": "code",
   "execution_count": 2,
   "id": "d4cb700d",
   "metadata": {},
   "outputs": [
    {
     "name": "stdout",
     "output_type": "stream",
     "text": [
      "=============== Final Test Accuracy ===============\n",
      "test acc:0.953\n"
     ]
    }
   ],
   "source": [
    "from common.simple_convnet import SimpleConvNet\n",
    "\n",
    "# 데이터 읽기\n",
    "(x_train, t_train), (x_test, t_test) = load_mnist(flatten=False)\n",
    "\n",
    "# 시간이 오래 걸릴 경우 데이터를 줄인다.\n",
    "x_train, t_train = x_train[:5000], t_train[:5000]\n",
    "x_test, t_test = x_test[:1000], t_test[:1000]\n",
    "\n",
    "max_epochs = 10\n",
    "\n",
    "network = SimpleConvNet(input_dim=(1,28,28), \n",
    "                        conv_param = {'filter_num': 30, 'filter_size': 5, 'pad': 0, 'stride': 1},\n",
    "                        hidden_size=100, output_size=10, weight_init_std=0.01)\n",
    "                        \n",
    "trainer = Trainer(network, x_train, t_train, x_test, t_test,\n",
    "                  epochs=max_epochs, mini_batch_size=100,\n",
    "                  optimizer='Adam', optimizer_param={'lr': 0.001},\n",
    "                  evaluate_sample_num_per_epoch=1000, verbose=False)\n",
    "trainer.train()"
   ]
  },
  {
   "cell_type": "code",
   "execution_count": 4,
   "id": "5f5da9f8",
   "metadata": {},
   "outputs": [],
   "source": [
    "import os\n",
    "import pickle\n",
    "\n",
    "# 학습 후에만 실행할 것\n",
    "# os.makedirs('params', exist_ok=True)\n",
    "# with open('params/wb.pickle', 'wb') as f:\n",
    "#     pickle.dump(network.params, f)"
   ]
  },
  {
   "cell_type": "code",
   "execution_count": 67,
   "id": "d6bb03f5",
   "metadata": {},
   "outputs": [
    {
     "data": {
      "image/png": "[encoded data removed]",
      "text/plain": [
       "<Figure size 1000x300 with 30 Axes>"
      ]
     },
     "metadata": {},
     "output_type": "display_data"
    }
   ],
   "source": [
    "import matplotlib.pyplot as plt\n",
    "\n",
    "with open('params/wb.pickle', 'rb') as f:\n",
    "    params = pickle.load(f)\n",
    "\n",
    "fig = plt.figure(figsize=(10, 3))\n",
    "\n",
    "for i in range(1, 4):\n",
    "    for j in range(1, 11):\n",
    "        idx = 10*(i-1)+j - 1\n",
    "        # print(i, j, idx)\n",
    "\n",
    "        fig.add_subplot(3, 10, idx+1)\n",
    "        w1_img = params['W1'][idx]\n",
    "        w1_img = w1_img.transpose(2, 1, 0)\n",
    "        plt.imshow(w1_img)\n",
    "        plt.axis('off')\n",
    "        plt.title(idx+1)\n",
    "        \n",
    "plt.tight_layout()"
   ]
  },
  {
   "attachments": {},
   "cell_type": "markdown",
   "id": "6b752fb1",
   "metadata": {},
   "source": [
    "<p align=\"center\"><img src=\"imgs/7-25.png\" width=600></p>\n",
    "\n",
    "* 학습 후에 필터는 일종의 규칙을 띄게 된다.\n",
    "* 이미지에서 비슷한 모양이 있는 구간에서, 필터가 활성화된다."
   ]
  },
  {
   "attachments": {},
   "cell_type": "markdown",
   "id": "3315efc0",
   "metadata": {},
   "source": [
    "### 7.6.3 층 깊이에 따른 추출 정보 변화\n",
    "\n",
    "1. Edge + Blob\n",
    "2. Texture\n",
    "3. Object parts\n",
    "4. object classes\n",
    "\n",
    "레이어가 깊어질 수록, 필터도 추상적이 된다. 추상적이라는 것은 더 많은 정보를 담고 있다는 뜻이다.\n",
    "\n",
    "<p align=\"center\"><img src=\"imgs/7-26-1.png\" width=800></p>"
   ]
  }
 ],
 "metadata": {
  "kernelspec": {
   "display_name": "tf2",
   "language": "python",
   "name": "python3"
  },
  "language_info": {
   "codemirror_mode": {
    "name": "ipython",
    "version": 3
   },
   "file_extension": ".py",
   "mimetype": "text/x-python",
   "name": "python",
   "nbconvert_exporter": "python",
   "pygments_lexer": "ipython3",
   "version": "3.8.15"
  },
  "vscode": {
   "interpreter": {
    "hash": "e8c0ffc6b8f05b006c73f2cd680928154ddfcde68c31c80ce450bbea892f4c22"
   }
  }
 },
 "nbformat": 4,
 "nbformat_minor": 5
}
