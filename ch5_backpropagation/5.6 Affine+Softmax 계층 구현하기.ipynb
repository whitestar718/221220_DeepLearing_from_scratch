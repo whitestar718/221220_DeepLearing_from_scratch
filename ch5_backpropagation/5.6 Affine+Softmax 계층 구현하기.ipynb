{
 "cells": [
  {
   "attachments": {},
   "cell_type": "markdown",
   "id": "99b825d0",
   "metadata": {},
   "source": [
    "# 5.6.1 Affine 계층\n",
    "\n",
    "np.dot으로 행렬의 곱셈을 표현했던 것을 기억해보자."
   ]
  },
  {
   "cell_type": "code",
   "execution_count": 2,
   "id": "81387d9f",
   "metadata": {},
   "outputs": [
    {
     "name": "stdout",
     "output_type": "stream",
     "text": [
      "(2,)\n",
      "(2, 3)\n",
      "(3,)\n"
     ]
    },
    {
     "data": {
      "text/plain": [
       "array([0.95327695, 0.80396679, 0.67617759])"
      ]
     },
     "execution_count": 2,
     "metadata": {},
     "output_type": "execute_result"
    }
   ],
   "source": [
    "import numpy as np\n",
    "\n",
    "X = np.random.rand(2)    # input\n",
    "W = np.random.rand(2, 3) # weight\n",
    "B = np.random.rand(3)    # bias\n",
    "\n",
    "print(X.shape)\n",
    "print(W.shape)\n",
    "print(B.shape)\n",
    "\n",
    "np.dot(X, W) + B"
   ]
  },
  {
   "attachments": {},
   "cell_type": "markdown",
   "id": "7c121575",
   "metadata": {},
   "source": [
    "행렬의 곱은 아래와 같은 특징이 있다.\n",
    "\n",
    "* 행렬곱을 하기 위해서는 앞/뒤의 차원 수가 같아야 한다.\n",
    "* 행렬의 곱을 기하학에서는 Affine 변환이라고 한다.\n",
    "\n",
    "이 Affine 변환 역시 계산 그래프로 표현 가능하다."
   ]
  },
  {
   "attachments": {},
   "cell_type": "markdown",
   "id": "4a70f68d",
   "metadata": {},
   "source": [
    "\n",
    "<p align=\"center\"><img src=\"imgs/5-24.png\" width=600></p>"
   ]
  },
  {
   "attachments": {},
   "cell_type": "markdown",
   "id": "b79c1d33",
   "metadata": {},
   "source": [
    "왜 이제와서 affine이 나오는가? 지금까지의 계산은 스칼라값이 흘렀는데, 이제 행렬이 흐르고 있기 때문이다. "
   ]
  },
  {
   "attachments": {},
   "cell_type": "markdown",
   "id": "0d86dcaf",
   "metadata": {},
   "source": [
    "* 아래 예시에서는 편의상 backward에 x를 그대로 넣었다\n",
    "* 하지만 실제 계산에서는, global loss로부터 계산된 배열이 들어간다.\n",
    "* 그러니 값들은 그냥 참고용으로만 알아두자.\n",
    "\n",
    "좋은 자료: 오차 역전파를 계산그래프로 설명하는 유튜브 영상\n",
    "https://www.youtube.com/watch?v=1Q_etC_GHHk&t=606s\n",
    "\n",
    "# 5.6.2 배치용 Affine 계층"
   ]
  },
  {
   "cell_type": "code",
   "execution_count": 4,
   "id": "f9861246",
   "metadata": {},
   "outputs": [
    {
     "name": "stdout",
     "output_type": "stream",
     "text": [
      "X_dot_W: \n",
      " [[ 0  0  0]\n",
      " [10 10 10]]\n",
      "B: [1 2 3]\n"
     ]
    }
   ],
   "source": [
    "X_dot_W = np.array([[0, 0, 0], [10, 10, 10]])\n",
    "B = np.array([1, 2, 3])\n",
    "\n",
    "print('X_dot_W: \\n', X_dot_W)\n",
    "print('B:', B)"
   ]
  },
  {
   "cell_type": "code",
   "execution_count": 5,
   "id": "ecc0c46a",
   "metadata": {},
   "outputs": [
    {
     "data": {
      "text/plain": [
       "array([[ 1,  2,  3],\n",
       "       [11, 12, 13]])"
      ]
     },
     "execution_count": 5,
     "metadata": {},
     "output_type": "execute_result"
    }
   ],
   "source": [
    "X_dot_W + B"
   ]
  },
  {
   "attachments": {},
   "cell_type": "markdown",
   "id": "dd23d8b1",
   "metadata": {},
   "source": [
    "위와 같은 현상이 일어나는 것은 numpy가 가지고 있는 broadcasting 기능 덕분이다. 이는 shape가 작은 행렬이 더 큰 행렬에 맞춰서 알아서 크기가 조절되는 것을 말한다. (확장)"
   ]
  },
  {
   "cell_type": "code",
   "execution_count": 6,
   "id": "3688a6a9",
   "metadata": {},
   "outputs": [
    {
     "data": {
      "text/plain": [
       "array([[1, 2, 3],\n",
       "       [4, 5, 6]])"
      ]
     },
     "execution_count": 6,
     "metadata": {},
     "output_type": "execute_result"
    }
   ],
   "source": [
    "dY = np.array([[1, 2, 3], [4, 5, 6]])\n",
    "dY"
   ]
  },
  {
   "cell_type": "code",
   "execution_count": 8,
   "id": "49f9ec45",
   "metadata": {},
   "outputs": [
    {
     "data": {
      "text/plain": [
       "array([5, 7, 9])"
      ]
     },
     "execution_count": 8,
     "metadata": {},
     "output_type": "execute_result"
    }
   ],
   "source": [
    "dB = np.sum(dY, axis=0)\n",
    "dB"
   ]
  },
  {
   "attachments": {},
   "cell_type": "markdown",
   "id": "7977392d",
   "metadata": {},
   "source": [
    "Affine 계층의 bias 계산되는 원리를 이해하면 된다."
   ]
  },
  {
   "cell_type": "code",
   "execution_count": 9,
   "id": "e256f451",
   "metadata": {},
   "outputs": [],
   "source": [
    "class Affine:\n",
    "    def __init__(self, W, b):\n",
    "        self.W = W\n",
    "        self.b = b\n",
    "        \n",
    "        self.x = None\n",
    "        self.original_x_shape = None\n",
    "        # 가중치와 편향 매개변수의 미분\n",
    "        self.dW = None\n",
    "        self.db = None\n",
    "\n",
    "    def forward(self, x):\n",
    "        # 텐서 대응\n",
    "        self.original_x_shape = x.shape\n",
    "        x = x.reshape(x.shape[0], -1)\n",
    "        self.x = x\n",
    "\n",
    "        out = np.dot(self.x, self.W) + self.b\n",
    "\n",
    "        return out\n",
    "\n",
    "    def backward(self, dout):\n",
    "        dx = np.dot(dout, self.W.T)\n",
    "        self.dW = np.dot(self.x.T, dout)\n",
    "        self.db = np.sum(dout, axis=0)\n",
    "        \n",
    "        dx = dx.reshape(*self.original_x_shape)  # 입력 데이터 모양 변경(텐서 대응)\n",
    "        return dx"
   ]
  }
 ],
 "metadata": {
  "kernelspec": {
   "display_name": "base",
   "language": "python",
   "name": "python3"
  },
  "language_info": {
   "codemirror_mode": {
    "name": "ipython",
    "version": 3
   },
   "file_extension": ".py",
   "mimetype": "text/x-python",
   "name": "python",
   "nbconvert_exporter": "python",
   "pygments_lexer": "ipython3",
   "version": "3.9.13"
  },
  "vscode": {
   "interpreter": {
    "hash": "d830cbedcd6d1ec4017f9d25964e9fcbce968a1657caeb36b4ead736dc71262f"
   }
  }
 },
 "nbformat": 4,
 "nbformat_minor": 5
}
