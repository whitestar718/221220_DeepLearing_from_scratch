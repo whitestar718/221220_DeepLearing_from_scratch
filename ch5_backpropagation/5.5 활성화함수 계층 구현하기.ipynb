{
 "cells": [
  {
   "attachments": {},
   "cell_type": "markdown",
   "id": "99b825d0",
   "metadata": {},
   "source": [
    "# 5.1.1 Relu 계층\n",
    "\n",
    "렐루의 forward pass와 back propagation을 살펴보면 아래와 같다.\n",
    "\n",
    "<p align=\"center\"><img src=\"imgs/5-7s.png\" width=600></p>\n",
    "\n",
    "코드에서도 순방향은 그냥 구현하면 되고, 역방향은 x <= 0 일 경우에만 0으로 처리해주면 된다."
   ]
  },
  {
   "cell_type": "code",
   "execution_count": 2,
   "id": "81387d9f",
   "metadata": {},
   "outputs": [],
   "source": [
    "import numpy as np\n",
    "\n",
    "class Relu:\n",
    "    def __init__(self):\n",
    "        self.mask = None # True or False\n",
    "\n",
    "    def forward(self, x):\n",
    "        self.mask = (x <= 0)\n",
    "        print('mask:', self.mask)\n",
    "        out = x.copy()\n",
    "        out[self.mask] = 0\n",
    "        print(out)\n",
    "\n",
    "        return out\n",
    "\n",
    "    def backward(self, dout):\n",
    "        dout[self.mask] = 0\n",
    "        dx = dout\n",
    "        return dx"
   ]
  },
  {
   "attachments": {},
   "cell_type": "markdown",
   "id": "4a70f68d",
   "metadata": {},
   "source": [
    "* mask 변수의 의미를 알고 갈 것\n",
    "* backward에서 self.mask가 작동하기 때문에, 계산이 쉬워진다는 것도 알면 좋음"
   ]
  },
  {
   "cell_type": "code",
   "execution_count": 4,
   "id": "b79c1d33",
   "metadata": {},
   "outputs": [
    {
     "name": "stdout",
     "output_type": "stream",
     "text": [
      "mask: [False  True  True False]\n",
      "[ 1.  0.  0. 10.]\n"
     ]
    },
    {
     "data": {
      "text/plain": [
       "array([ 1.,  0.,  0., 10.])"
      ]
     },
     "execution_count": 4,
     "metadata": {},
     "output_type": "execute_result"
    }
   ],
   "source": [
    "relu = Relu()\n",
    "\n",
    "x = np.array([1.0, -2.0, -5.0, 10.0])\n",
    "relu.forward(x)\n"
   ]
  },
  {
   "attachments": {},
   "cell_type": "markdown",
   "id": "0d86dcaf",
   "metadata": {},
   "source": [
    "* 아래 예시에서는 편의상 backward에 x를 그대로 넣었다\n",
    "* 하지만 실제 계산에서는, global loss로부터 계산된 배열이 들어간다.\n",
    "* 그러니 값들은 그냥 참고용으로만 알아두자."
   ]
  },
  {
   "cell_type": "code",
   "execution_count": 9,
   "id": "f9861246",
   "metadata": {},
   "outputs": [
    {
     "data": {
      "text/plain": [
       "array([ 1.,  0.,  0., 10.])"
      ]
     },
     "execution_count": 9,
     "metadata": {},
     "output_type": "execute_result"
    }
   ],
   "source": [
    "relu.backward(x)"
   ]
  },
  {
   "cell_type": "code",
   "execution_count": 5,
   "id": "5e4b4b57",
   "metadata": {},
   "outputs": [],
   "source": [
    "class Sigmoid:\n",
    "    def __init__(self):\n",
    "        self.out = None\n",
    "\n",
    "    def forward(self, x):\n",
    "        out = 1 / (1 + np.exp(-x))\n",
    "        self.out = out\n",
    "\n",
    "        return out\n",
    "\n",
    "    def backward(self, dout):\n",
    "        dx = dout * (1.0 - self.out) * self.out\n",
    "        return dx"
   ]
  }
 ],
 "metadata": {
  "kernelspec": {
   "display_name": "tf2",
   "language": "python",
   "name": "python3"
  },
  "language_info": {
   "codemirror_mode": {
    "name": "ipython",
    "version": 3
   },
   "file_extension": ".py",
   "mimetype": "text/x-python",
   "name": "python",
   "nbconvert_exporter": "python",
   "pygments_lexer": "ipython3",
   "version": "3.8.13"
  },
  "vscode": {
   "interpreter": {
    "hash": "429d3c4ab745cb5040d1082d56ce2bddcd2ae65139d012657fade8b90ce91472"
   }
  }
 },
 "nbformat": 4,
 "nbformat_minor": 5
}
